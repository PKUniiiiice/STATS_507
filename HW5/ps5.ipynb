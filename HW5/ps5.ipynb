{
 "cells": [
  {
   "cell_type": "code",
   "execution_count": 35,
   "id": "bbb3d7b7",
   "metadata": {
    "deletable": false,
    "editable": false
   },
   "outputs": [],
   "source": [
    "# Initialize Otter\n",
    "import otter\n",
    "grader = otter.Notebook(\"ps5.ipynb\")"
   ]
  },
  {
   "cell_type": "markdown",
   "id": "c09a3f6f",
   "metadata": {
    "deletable": false,
    "editable": false
   },
   "source": [
    "### Question 1\n",
    "In this question you will implement a class called `Matrix`. A matrix will be modeled as a collection of vectors all of the same dimension, and you may use the `Vector` class that we explored in class (included with this problem set as `vector.py`) to implement it:"
   ]
  },
  {
   "cell_type": "code",
   "execution_count": 36,
   "id": "82eeb59c",
   "metadata": {},
   "outputs": [],
   "source": [
    "from vector import Vector"
   ]
  },
  {
   "cell_type": "code",
   "execution_count": 37,
   "id": "0236b898",
   "metadata": {
    "tags": []
   },
   "outputs": [],
   "source": [
    "class Matrix:\n",
    "    '''\n",
    "    Matrix class\n",
    "    '''\n",
    "\n",
    "\n",
    "    def __init__(self, *args) -> None:\n",
    "        '''\n",
    "        constructor with args\n",
    "        '''\n",
    "        from vector import Vector\n",
    "\n",
    "        if not args:\n",
    "            raise ValueError(\"Matrix should require at least one vector for initialization\")\n",
    "        \n",
    "        if not all(isinstance(arg, Vector) for arg in args):\n",
    "            raise TypeError(\"Input arguments should be vectors\")\n",
    "        \n",
    "        if not all(args[0].dim==arg.dim for arg in args):\n",
    "            raise ValueError(\"Vectors should all have the same dimension\")\n",
    "        self._val = tuple(args)\n",
    "\n",
    "    def __str__(self) -> str:\n",
    "        if self.dims[1] == 1:\n",
    "            return \"\\n\".join('('+str(v)+')' for v in self._val[0])\n",
    "        return \"\\n\".join(map(str, zip(*self._val)))\n",
    "    \n",
    "    def __repr__(self) -> str:\n",
    "        return str(self)\n",
    "        \n",
    "    def __iter__(self):\n",
    "        return iter(self._val)\n",
    "    \n",
    "    def __add__(self, other):\n",
    "        #if not isinstance(other, Matrix):\n",
    "        #   return NotImplemented\n",
    "        \n",
    "        if not self._conformable(other):\n",
    "            raise ValueError(\"Cannot add matrices of different dimensions\")\n",
    "        return Matrix(*[a + b for a, b in zip(self, other)])\n",
    "\n",
    "    def __mul__(self, other):\n",
    "        import numbers\n",
    "        if not isinstance(other, numbers.Number):\n",
    "            return NotImplemented\n",
    "        return Matrix(*(a * other for a in self._val))\n",
    "    \n",
    "    def __rmul__(self, other):\n",
    "        return self.__mul__(other)\n",
    "    \n",
    "    \n",
    "    def __radd__(self, other):\n",
    "        return self.__add__(other)\n",
    "\n",
    "    def __getitem__(self, items):\n",
    "        if (len(items)==2)and all(isinstance(i, int) for i in items) and 0<=items[0]<self.dims[0] and 0<=items[1]<self.dims[1]:\n",
    "                return self._val[items[1]][items[0]]\n",
    "        else:\n",
    "            raise IndexError(\"Illegal Index\")\n",
    "    \n",
    "    def __matmul__(self, other):\n",
    "        from vector import Vector\n",
    "        if not self._conformable_mat(other):\n",
    "            raise ValueError(\"Incompatible matrix dimensions\")\n",
    "\n",
    "        newcols = []\n",
    "        for col_j in other:\n",
    "            newcol_j = [0.0]*self.dims[0]\n",
    "            for row_i in range(self.dims[0]):\n",
    "                newcol_j[row_i] = sum(ik * kj for ik, kj in zip((self[row_i, k] for k in range(self.dims[1])), col_j))\n",
    "            \n",
    "            newcols.append(Vector(*newcol_j))\n",
    "\n",
    "        return Matrix(*newcols)\n",
    "    \n",
    "    def __eq__(self, __value: object) -> bool:\n",
    "        if self._conformable(__value):\n",
    "            return all((s == v  for s,v in zip(self._val, __value._val)))\n",
    "        return False\n",
    "\n",
    "    @property\n",
    "    def dims(self) -> tuple:\n",
    "        return (self._val[0].dim, len(self._val))\n",
    "\n",
    "    def _conformable(self, other) -> bool :\n",
    "        return isinstance(other, Matrix) and self.dims == other.dims\n",
    "    \n",
    "    def _conformable_mat(self, other) -> bool :\n",
    "        '''conformable 4 matmul'''\n",
    "        return isinstance(other, Matrix) and self.dims[1] == other.dims[0]\n",
    "    \n",
    "    def transpose(self):\n",
    "        from vector import Vector\n",
    "        return Matrix(*map(lambda v: Vector(*v), zip(*self._val)))\n",
    "    "
   ]
  },
  {
   "cell_type": "markdown",
   "id": "3d4e7da8",
   "metadata": {
    "deletable": false,
    "editable": false
   },
   "source": [
    "**1(a)** (1 pt) The constructor of `Matrix` should accept one or more `Vector` objects, which will represent the *columns* of the matrix.\n",
    "\n",
    "```\n",
    ">>> v1 = Vector(1, 2, 3)\n",
    ">>> v2 = Vector(5, 6, 7)\n",
    ">>> v3 = Vector(8, 9, 10)\n",
    ">>> Matrix(v1)\n",
    "<__main__.Matrix at 0x10efbabb0>\n",
    ">>> Matrix(v1, v2)\n",
    "<__main__.Matrix at 0x117023640>\n",
    ">>> Matrix(v1, v2, v3)\n",
    "<__main__.Matrix at 0x117023040>\n",
    "```\n",
    "\n",
    "Additionally, it should perform the following checks:\n",
    "\n",
    "1.  It should verify that each argument is of the correct type:\n",
    "    ```\n",
    "    >>> Matrix(1, \"\", v1)\n",
    "    TypeError: Input arguments should be vectors\n",
    "    ```\n",
    "    \n",
    "2.  It should verify that each argument has the same dimension.\n",
    "\n",
    "    ```\n",
    "    >>> v1 = Vector(1, 2, 3)\n",
    "    >>> v2 = Vector(5, 6)\n",
    "    >>> Matrix(v1, v2)\n",
    "    ValueError: Vectors should all have the same dimension\n",
    "    ```"
   ]
  },
  {
   "cell_type": "code",
   "execution_count": 38,
   "id": "4e7c87db",
   "metadata": {
    "deletable": false,
    "editable": false
   },
   "outputs": [
    {
     "data": {
      "text/html": [
       "<p><strong><pre style='display: inline;'>1a</pre></strong> passed! 🙌</p>"
      ],
      "text/plain": [
       "1a results: All test cases passed!"
      ]
     },
     "execution_count": 38,
     "metadata": {},
     "output_type": "execute_result"
    }
   ],
   "source": [
    "grader.check(\"1a\")"
   ]
  },
  {
   "cell_type": "markdown",
   "id": "a6990df3",
   "metadata": {
    "deletable": false,
    "editable": false
   },
   "source": [
    "**1(b)** (2 pts) Calling `str` on a `Matrix` object should produce a nice looking text representation:\n",
    "\n",
    "```\n",
    ">>> v1 = Vector(1, 2, 3)\n",
    ">>> v2 = Vector(4, 5, 6)\n",
    ">>> v3 = Vector(7, 8, 9)\n",
    ">>> M = Matrix(v1, v2, v3)\n",
    ">>> print(M)\n",
    "(1, 4, 7)\n",
    "(2, 5, 8)\n",
    "(3, 6, 9)\n",
    "```"
   ]
  },
  {
   "cell_type": "code",
   "execution_count": 39,
   "id": "32b777b9",
   "metadata": {
    "deletable": false,
    "editable": false
   },
   "outputs": [
    {
     "data": {
      "text/html": [
       "<p><strong><pre style='display: inline;'>q1b</pre></strong> passed! 🍀</p>"
      ],
      "text/plain": [
       "q1b results: All test cases passed!"
      ]
     },
     "execution_count": 39,
     "metadata": {},
     "output_type": "execute_result"
    }
   ],
   "source": [
    "grader.check(\"q1b\")"
   ]
  },
  {
   "cell_type": "markdown",
   "id": "5b1f7ea2",
   "metadata": {
    "deletable": false,
    "editable": false
   },
   "source": [
    "**1(c)** (1 pt.) A matrix should have a attribute `dims` which returns a tuple of its dimensions (number of rows and columns):\n",
    "```\n",
    ">>> v1 = Vector(1, 2, 3)\n",
    ">>> v2 = Vector(4, 5, 6)\n",
    ">>> M = Matrix(v1, v2)\n",
    ">>> M.dims\n",
    "(3, 2)\n",
    "```"
   ]
  },
  {
   "cell_type": "code",
   "execution_count": 40,
   "id": "fa27613b",
   "metadata": {
    "deletable": false,
    "editable": false
   },
   "outputs": [
    {
     "data": {
      "text/html": [
       "<p><strong><pre style='display: inline;'>q1c</pre></strong> passed! 💯</p>"
      ],
      "text/plain": [
       "q1c results: All test cases passed!"
      ]
     },
     "execution_count": 40,
     "metadata": {},
     "output_type": "execute_result"
    }
   ],
   "source": [
    "grader.check(\"q1c\")"
   ]
  },
  {
   "cell_type": "markdown",
   "id": "789c1297",
   "metadata": {
    "deletable": false,
    "editable": false
   },
   "source": [
    "**1(d)** (1 pt.) A matrix should be iterable. Iterating over the matrix should return each of its columns as vectors.\n",
    "```\n",
    ">>> v1 = Vector(1, 2, 3)\n",
    ">>> v2 = Vector(4, 5, 6)\n",
    ">>> M = Matrix(v1, v2)\n",
    ">>> for col in M: print(col)\n",
    "(1, 2, 3)\n",
    "(4, 5, 6)\n",
    "```"
   ]
  },
  {
   "cell_type": "code",
   "execution_count": 41,
   "id": "341f13d3",
   "metadata": {
    "deletable": false,
    "editable": false
   },
   "outputs": [
    {
     "data": {
      "text/html": [
       "<p><strong><pre style='display: inline;'>q1d</pre></strong> passed! ✨</p>"
      ],
      "text/plain": [
       "q1d results: All test cases passed!"
      ]
     },
     "execution_count": 41,
     "metadata": {},
     "output_type": "execute_result"
    }
   ],
   "source": [
    "grader.check(\"q1d\")"
   ]
  },
  {
   "cell_type": "markdown",
   "id": "3f03a097",
   "metadata": {
    "deletable": false,
    "editable": false
   },
   "source": [
    "**1(e)** (2 pts) Two matrices of the same dimensions can be added together. \n",
    "```\n",
    ">>> v1 = Vector(1, 2, 3)\n",
    ">>> v2 = Vector(4, 5, 6)\n",
    ">>> M = Matrix(v1, v2)\n",
    ">>> print(M + M)\n",
    "(2, 8)\n",
    "(4, 10)\n",
    "(6, 12)\n",
    "```\n",
    "However, matrices of different dimensions cannot be added together:\n",
    "```\n",
    ">>> v1 = Vector(1, 2, 3)\n",
    ">>> v2 = Vector(4, 5, 6)\n",
    ">>> Matrix(v1) + Matrix(v1, v2)\n",
    "ValueError: Cannot add matrices of different dimensions\n",
    "```"
   ]
  },
  {
   "cell_type": "code",
   "execution_count": 42,
   "id": "09cb4850",
   "metadata": {
    "deletable": false,
    "editable": false
   },
   "outputs": [
    {
     "data": {
      "text/html": [
       "<p><strong><pre style='display: inline;'>q1e</pre></strong> passed! 🌈</p>"
      ],
      "text/plain": [
       "q1e results: All test cases passed!"
      ]
     },
     "execution_count": 42,
     "metadata": {},
     "output_type": "execute_result"
    }
   ],
   "source": [
    "grader.check(\"q1e\")"
   ]
  },
  {
   "cell_type": "markdown",
   "id": "108e072f",
   "metadata": {
    "deletable": false,
    "editable": false
   },
   "source": [
    "**1(f)** (2 pts) Matrices can be multipled by a numerical constant:\n",
    "```\n",
    ">>> v1 = Vector(1, 2, 3)\n",
    ">>> v2 = Vector(4, 5, 6)\n",
    ">>> M = Matrix(v1, v2)\n",
    ">>> print(M * 2.5)\n",
    "(2.5, 10.0)\n",
    "(5.0, 12.5)\n",
    "(7.5, 15.0)\n",
    ">>> print(\"a\" * M)\n",
    "TypeError: ...\n",
    "```"
   ]
  },
  {
   "cell_type": "code",
   "execution_count": 43,
   "id": "df10e243",
   "metadata": {
    "deletable": false,
    "editable": false
   },
   "outputs": [
    {
     "data": {
      "text/html": [
       "<p><strong><pre style='display: inline;'>q1f</pre></strong> passed! 🌟</p>"
      ],
      "text/plain": [
       "q1f results: All test cases passed!"
      ]
     },
     "execution_count": 43,
     "metadata": {},
     "output_type": "execute_result"
    }
   ],
   "source": [
    "grader.check(\"q1f\")"
   ]
  },
  {
   "cell_type": "markdown",
   "id": "c27db828",
   "metadata": {
    "deletable": false,
    "editable": false
   },
   "source": [
    "**1(g)** (2 pts) Individual entries of a matrix can be accessed using the notation `M[i,j]`:\n",
    "```\n",
    ">>> v1 = Vector(1, 2, 3)\n",
    ">>> v2 = Vector(4, 5, 6)\n",
    ">>> M = Matrix(v1, v2)\n",
    ">>> print(M)\n",
    ">>> M[0, 0]\n",
    "1\n",
    ">>> M[2, 1]\n",
    "6\n",
    ">>> M[3, 3]\n",
    "IndexError: ...\n",
    "```"
   ]
  },
  {
   "cell_type": "code",
   "execution_count": 44,
   "id": "d8e150dd",
   "metadata": {
    "deletable": false,
    "editable": false
   },
   "outputs": [
    {
     "data": {
      "text/html": [
       "<p><strong><pre style='display: inline;'>q1g</pre></strong> passed! 🍀</p>"
      ],
      "text/plain": [
       "q1g results: All test cases passed!"
      ]
     },
     "execution_count": 44,
     "metadata": {},
     "output_type": "execute_result"
    }
   ],
   "source": [
    "grader.check(\"q1g\")"
   ]
  },
  {
   "cell_type": "markdown",
   "id": "ce1ceab6",
   "metadata": {
    "deletable": false,
    "editable": false
   },
   "source": [
    "**1(h)** (3 pts) A matrix can be transposed:\n",
    "```\n",
    ">>> v1 = Vector(1, 2, 3)\n",
    ">>> v2 = Vector(4, 5, 6)\n",
    ">>> M = Matrix(v1, v2)\n",
    ">>> print(M)\n",
    "(1, 4)\n",
    "(2, 5)\n",
    "(3, 6)\n",
    ">>> print(M.transpose())\n",
    "(1, 2, 3)\n",
    "(4, 5, 6)\n",
    "```"
   ]
  },
  {
   "cell_type": "code",
   "execution_count": 45,
   "id": "1a8deaf0",
   "metadata": {
    "deletable": false,
    "editable": false
   },
   "outputs": [
    {
     "data": {
      "text/html": [
       "<p><strong><pre style='display: inline;'>q1h</pre></strong> passed! 🙌</p>"
      ],
      "text/plain": [
       "q1h results: All test cases passed!"
      ]
     },
     "execution_count": 45,
     "metadata": {},
     "output_type": "execute_result"
    }
   ],
   "source": [
    "grader.check(\"q1h\")"
   ]
  },
  {
   "cell_type": "markdown",
   "id": "ee880ee5",
   "metadata": {
    "deletable": false,
    "editable": false
   },
   "source": [
    "**1(i)** (2 pts) Two matrices of conformable dimensions can be multiplied using the matrix multiplication operator (`@`). Hint: which dunder method should you implement for this symbol?\n",
    "```\n",
    ">>> v1 = Vector(1, 2, 3)\n",
    ">>> v2 = Vector(4, 5, 6)\n",
    ">>> M = Matrix(v1, v2)\n",
    ">>> print(M @ M.transpose())\n",
    "(17, 22, 27)\n",
    "(22, 29, 36)\n",
    "(27, 36, 45)\n",
    ">>> M @ M\n",
    "ValueError: Incompatible matrix dimensions\n",
    "```"
   ]
  },
  {
   "cell_type": "code",
   "execution_count": 46,
   "id": "2c4dbbfa",
   "metadata": {
    "deletable": false,
    "editable": false
   },
   "outputs": [
    {
     "data": {
      "text/html": [
       "<p><strong><pre style='display: inline;'>q1i</pre></strong> passed! 🎉</p>"
      ],
      "text/plain": [
       "q1i results: All test cases passed!"
      ]
     },
     "execution_count": 46,
     "metadata": {},
     "output_type": "execute_result"
    }
   ],
   "source": [
    "grader.check(\"q1i\")"
   ]
  },
  {
   "cell_type": "markdown",
   "id": "3b1095ec",
   "metadata": {
    "deletable": false,
    "editable": false
   },
   "source": [
    "**1(j)** (2 pts) Matrices can be tested for equality:\n",
    "```\n",
    ">>> v1 = Vector(1, 2, 3)\n",
    ">>> v2 = Vector(4, 5, 6)\n",
    ">>> M = Matrix(v1, v2)\n",
    ">>> M == M\n",
    "True\n",
    ">>> M == Matrix(v1)\n",
    "False\n",
    ">>> M == 1.0\n",
    "False\n",
    ">>> M == \"matrix\"\n",
    "False\n",
    "```"
   ]
  },
  {
   "cell_type": "code",
   "execution_count": 47,
   "id": "e9d0025c",
   "metadata": {
    "deletable": false,
    "editable": false
   },
   "outputs": [
    {
     "data": {
      "text/html": [
       "<p><strong><pre style='display: inline;'>q1j</pre></strong> passed! ✨</p>"
      ],
      "text/plain": [
       "q1j results: All test cases passed!"
      ]
     },
     "execution_count": 47,
     "metadata": {},
     "output_type": "execute_result"
    }
   ],
   "source": [
    "grader.check(\"q1j\")"
   ]
  },
  {
   "cell_type": "markdown",
   "id": "3630182e",
   "metadata": {},
   "source": [
    "### Question 2\n",
    "This question will use the MapReduce concepts for data processing."
   ]
  },
  {
   "cell_type": "code",
   "execution_count": 48,
   "id": "a437e1b8",
   "metadata": {},
   "outputs": [],
   "source": [
    "from functools import reduce\n",
    "import itertools\n",
    "import gzip\n",
    "\n",
    "\n",
    "class MapReduce:\n",
    "    @property\n",
    "    def reduce_init(self):\n",
    "        # override as necessary if the init parameter needs to change\n",
    "        return None\n",
    "\n",
    "    def mapper(self, x):\n",
    "        raise NotImplementedError()\n",
    "\n",
    "    def reducer(self, accum, x):\n",
    "        raise NotImplementedError()\n",
    "\n",
    "    def postprocess(self, reduced):\n",
    "        # override if necessary\n",
    "        return reduced\n",
    "\n",
    "    def run(self, iterable):\n",
    "        mapped = map(self.mapper, iterable)\n",
    "        reduced = reduce(self.reducer, mapped, self.reduce_init)\n",
    "        processed = self.postprocess(reduced)\n",
    "        return processed"
   ]
  },
  {
   "cell_type": "markdown",
   "id": "cba0be62",
   "metadata": {},
   "source": [
    "(To make things more flexible, we have also added an optional `.postprocess()` method that can be used to do additional processing after the reduction step.)"
   ]
  },
  {
   "cell_type": "markdown",
   "id": "9f98a167",
   "metadata": {},
   "source": [
    "Questions 2(a) & 2(b) concern the Enron dataset:"
   ]
  },
  {
   "cell_type": "code",
   "execution_count": 49,
   "id": "4fca1777",
   "metadata": {},
   "outputs": [],
   "source": [
    "def enron(n=None):\n",
    "    i1 = gzip.open(\"email-Enron.txt.gz\", \"rt\")\n",
    "    i2 = itertools.islice(i1, 4, None)  # slice off header\n",
    "    return itertools.islice(i2, n)"
   ]
  },
  {
   "cell_type": "markdown",
   "id": "a05d98ff",
   "metadata": {},
   "source": [
    "\n",
    "For each question below, implement a subclass of MapReduce such that calling `.run(enron(n))` produces the desired output. For example, if the question asked you to calculate the total number of e-mails, your solution could be:"
   ]
  },
  {
   "cell_type": "code",
   "execution_count": 50,
   "id": "e975f816",
   "metadata": {},
   "outputs": [
    {
     "data": {
      "text/plain": [
       "100"
      ]
     },
     "execution_count": 50,
     "metadata": {},
     "output_type": "execute_result"
    }
   ],
   "source": [
    "class NumEmails(MapReduce):\n",
    "    @property\n",
    "    def reduce_init(self):\n",
    "        return 0\n",
    "\n",
    "    def mapper(self, x):\n",
    "        return 1\n",
    "\n",
    "    def reducer(self, accum, x):\n",
    "        return accum + x\n",
    "\n",
    "\n",
    "NumEmails().run(enron(100))"
   ]
  },
  {
   "cell_type": "markdown",
   "id": "df1002e0",
   "metadata": {
    "deletable": false,
    "editable": false
   },
   "source": [
    "**2(a)** (3 pts) Define a user's *importance* to be the number of unique people who e-mailed them (not including themself). Write a MapReduce class that returns a `collections.Counter` mapping each user ID to their importance when run."
   ]
  },
  {
   "cell_type": "code",
   "execution_count": 51,
   "id": "4271e8ff",
   "metadata": {
    "tags": []
   },
   "outputs": [],
   "source": [
    "class Importance(MapReduce):\n",
    "    '''\n",
    "    importance = the number of unique people who e-mailed them (not including themself).\n",
    "    '''\n",
    "    @property\n",
    "    def reduce_init(self):\n",
    "        from collections import defaultdict\n",
    "        return defaultdict(set)\n",
    "\n",
    "    def mapper(self, x):\n",
    "        return tuple(map(int, x.split()))\n",
    "\n",
    "\n",
    "    def reducer(self, accum, x):\n",
    "        if x[0] != x[1]:\n",
    "            accum[x[1]].add(x[0]) \n",
    "        return accum\n",
    "\n",
    "    def postprocess(self, reduced):\n",
    "        from collections import Counter\n",
    "\n",
    "        return Counter({k: len(v) for k, v in reduced.items()})"
   ]
  },
  {
   "cell_type": "code",
   "execution_count": 52,
   "id": "17f46930",
   "metadata": {
    "deletable": false,
    "editable": false
   },
   "outputs": [
    {
     "data": {
      "text/html": [
       "<p><strong><pre style='display: inline;'>q2a</pre></strong> passed! 🌟</p>"
      ],
      "text/plain": [
       "q2a results: All test cases passed!"
      ]
     },
     "execution_count": 52,
     "metadata": {},
     "output_type": "execute_result"
    }
   ],
   "source": [
    "grader.check(\"q2a\")"
   ]
  },
  {
   "cell_type": "markdown",
   "id": "cf09ee2f",
   "metadata": {
    "deletable": false,
    "editable": false
   },
   "source": [
    "**2(b)** (4 pts) Define a user's *forgetfulness* to be the number of times they e-mailed themself. Write a MapReduce class that returns a `Counter` that maps each user who e-mailed themself at least once to their forgetfulness score."
   ]
  },
  {
   "cell_type": "code",
   "execution_count": 53,
   "id": "59ab210d",
   "metadata": {
    "tags": []
   },
   "outputs": [],
   "source": [
    "class Forgetful(MapReduce):\n",
    "    '''Forgetful = the number of times they e-mailed themself'''\n",
    "    @property\n",
    "    def reduce_init(self):\n",
    "        return dict()\n",
    "\n",
    "    def mapper(self, x):\n",
    "        nodes = tuple(map(int, x.split()))\n",
    "        return (nodes[0]==nodes[1], *nodes)\n",
    "\n",
    "    def reducer(self, accum, x):\n",
    "        '''x = (flag, send, receiver)'''\n",
    "        if x[0]:\n",
    "            accum[x[1]] = accum.get(x[1], 0)+1\n",
    "        return accum\n",
    "\n",
    "    def postprocess(self, reduced):\n",
    "        from collections import Counter\n",
    "\n",
    "        return Counter(reduced)"
   ]
  },
  {
   "cell_type": "code",
   "execution_count": 54,
   "id": "c2f750b4",
   "metadata": {
    "deletable": false,
    "editable": false
   },
   "outputs": [
    {
     "data": {
      "text/html": [
       "<p><strong><pre style='display: inline;'>q2b</pre></strong> passed! 🌟</p>"
      ],
      "text/plain": [
       "q2b results: All test cases passed!"
      ]
     },
     "execution_count": 54,
     "metadata": {},
     "output_type": "execute_result"
    }
   ],
   "source": [
    "grader.check(\"q2b\")"
   ]
  },
  {
   "cell_type": "markdown",
   "id": "75fc8c59",
   "metadata": {
    "deletable": false,
    "editable": false
   },
   "source": [
    "## Submission\n",
    "\n",
    "Make sure you have run all cells in your notebook in order before running the cell below, so that all images/graphs appear in the output. The cell below will generate a zip file for you to submit. **Please save before exporting!**\n",
    "\n",
    "Upload this .zip file to Gradescope for grading."
   ]
  },
  {
   "cell_type": "code",
   "execution_count": 55,
   "id": "78227454",
   "metadata": {
    "deletable": false,
    "editable": false
   },
   "outputs": [
    {
     "data": {
      "text/html": [
       "\n",
       "                    <p>\n",
       "                        Your submission has been exported. Click\n",
       "                        <a href=\"ps5_2023_09_30T10_09_46_903154.zip\" downloadzip_path target=\"_blank\">here</a> to download\n",
       "                        the zip file.\n",
       "                    </p>\n",
       "                "
      ],
      "text/plain": [
       "<IPython.core.display.HTML object>"
      ]
     },
     "metadata": {},
     "output_type": "display_data"
    }
   ],
   "source": [
    "# Save your notebook first, then run this cell to export your submission.\n",
    "grader.export(pdf=False)"
   ]
  },
  {
   "cell_type": "markdown",
   "id": "87869b60",
   "metadata": {},
   "source": [
    " "
   ]
  }
 ],
 "metadata": {
  "kernelspec": {
   "display_name": "Python 3 (ipykernel)",
   "language": "python",
   "name": "python3"
  },
  "language_info": {
   "codemirror_mode": {
    "name": "ipython",
    "version": 3
   },
   "file_extension": ".py",
   "mimetype": "text/x-python",
   "name": "python",
   "nbconvert_exporter": "python",
   "pygments_lexer": "ipython3",
   "version": "3.11.3"
  },
  "otter": {
   "OK_FORMAT": true,
   "tests": {
    "1a": {
     "name": "1a",
     "points": 1,
     "suites": [
      {
       "cases": [
        {
         "code": ">>> from vector import Vector\n>>> v1 = Vector(1, 2, 3)\n>>> v2 = Vector(5, 6, 7)\n>>> v3 = Vector(8, 9, 10)\n>>> assert Matrix(v1)\n>>> assert Matrix(v1, v2)\n>>> assert Matrix(v1, v2, v3)\n",
         "hidden": false,
         "locked": false
        },
        {
         "code": ">>> try:\n...     Matrix()\n... except:\n...     pass\n... else:\n...     raise Exception(\"Matrix should require at least one vector for initialization\")\n",
         "hidden": false,
         "locked": false
        },
        {
         "code": ">>> v1 = Vector(1, 2, 3)\n>>> try:\n...     Matrix(1, '', v1)\n... except TypeError:\n...     pass\n... else:\n...     raise Exception(\"Should raise a Type Error\")\n",
         "hidden": false,
         "locked": false
        },
        {
         "code": ">>> v1 = Vector(1, 2, 3)\n>>> v2 = Vector(5, 6)\n>>> try:\n...     Matrix(v1, v2)\n... except ValueError:\n...     pass\n... else:\n...     raise Exception(\"Should raise a Value Error\")\n",
         "hidden": false,
         "locked": false
        },
        {
         "code": ">>> v1 = Vector(1, 2, 3)\n>>> v2 = Vector(4, 5, 6)\n>>> try:\n...     Matrix(v1, v2, [1,2,3])\n... except TypeError:\n...     pass\n... else:\n...     raise Exception(\"Should raise a Type Error\")\n",
         "hidden": false,
         "locked": false
        }
       ],
       "scored": true,
       "setup": "",
       "teardown": "",
       "type": "doctest"
      }
     ]
    },
    "q1b": {
     "name": "q1b",
     "points": 2,
     "suites": [
      {
       "cases": [
        {
         "code": ">>> v1 = Vector(1, 2, 3)\n>>> v2 = Vector(4, 5, 6)\n>>> v3 = Vector(7, 8, 9)\n>>> M = Matrix(v1, v2, v3)\n>>> assert str(M).strip() == '(1, 4, 7)\\n(2, 5, 8)\\n(3, 6, 9)'\n",
         "hidden": false,
         "locked": false
        }
       ],
       "scored": true,
       "setup": "",
       "teardown": "",
       "type": "doctest"
      }
     ]
    },
    "q1c": {
     "name": "q1c",
     "points": 1,
     "suites": [
      {
       "cases": [
        {
         "code": ">>> v1 = Vector(1, 2, 3)\n>>> v2 = Vector(4, 5, 6)\n>>> M = Matrix(v1, v2)\n>>> assert M.dims == (3, 2)\n",
         "hidden": false,
         "locked": false
        },
        {
         "code": ">>> v1 = Vector(1, 2, 3)\n>>> M = Matrix(v1)\n>>> assert M.dims == (3, 1)\n",
         "hidden": false,
         "locked": false
        }
       ],
       "scored": true,
       "setup": "",
       "teardown": "",
       "type": "doctest"
      }
     ]
    },
    "q1d": {
     "name": "q1d",
     "points": 1,
     "suites": [
      {
       "cases": [
        {
         "code": ">>> v = [Vector(1, 2, 3), Vector(4, 5, 6)]\n>>> M = Matrix(v[0], v[1])\n>>> count = 0\n>>> for col in M:\n...     assert isinstance(col, Vector)\n...     assert col == v[count]\n...     count += 1\n",
         "hidden": false,
         "locked": false
        }
       ],
       "scored": true,
       "setup": "",
       "teardown": "",
       "type": "doctest"
      }
     ]
    },
    "q1e": {
     "name": "q1e",
     "points": 2,
     "suites": [
      {
       "cases": [
        {
         "code": ">>> v1 = Vector(1, 2, 3)\n>>> v2 = Vector(4, 5, 6)\n>>> M = Matrix(v1, v2)\n>>> assert isinstance(M + M, Matrix)\n>>> assert str(M + M).strip() == '(2, 8)\\n(4, 10)\\n(6, 12)'\n",
         "hidden": false,
         "locked": false
        },
        {
         "code": ">>> v1 = Vector(1, 2, 3)\n>>> v2 = Vector(4, 5, 6)\n>>> try:\n...     Matrix(v1) + Matrix(v1, v2)\n... except ValueError:\n...     pass\n... else:\n...     raise Exception('Should raise a value error')\n",
         "hidden": false,
         "locked": false
        }
       ],
       "scored": true,
       "setup": "",
       "teardown": "",
       "type": "doctest"
      }
     ]
    },
    "q1f": {
     "name": "q1f",
     "points": 2,
     "suites": [
      {
       "cases": [
        {
         "code": ">>> v1 = Vector(1, 2, 3)\n>>> v2 = Vector(4, 5, 6)\n>>> M = Matrix(v1, v2)\n>>> assert str(M * 2.5).strip() == '(2.5, 10.0)\\n(5.0, 12.5)\\n(7.5, 15.0)'\n>>> assert str(2.5 * M).strip() == '(2.5, 10.0)\\n(5.0, 12.5)\\n(7.5, 15.0)'\n",
         "hidden": false,
         "locked": false
        },
        {
         "code": ">>> v1 = Vector(1, 2, 3)\n>>> v2 = Vector(4, 5, 6)\n>>> M = Matrix(v1, v2)\n>>> try:\n...     'a' * M\n... except TypeError:\n...     pass\n... else:\n...     raise Exception('Should raise a type error')\n",
         "hidden": false,
         "locked": false
        }
       ],
       "scored": true,
       "setup": "",
       "teardown": "",
       "type": "doctest"
      }
     ]
    },
    "q1g": {
     "name": "q1g",
     "points": 2,
     "suites": [
      {
       "cases": [
        {
         "code": ">>> v1 = Vector(1, 2, 3)\n>>> v2 = Vector(4, 5, 6)\n>>> M = Matrix(v1, v2)\n>>> assert M[0,0] == 1\n>>> assert M[2, 1] == 6\n>>> try:\n...     M[3, 3]\n... except IndexError:\n...     pass\n... else:\n...     raise Exception('Should raise an index error')\n",
         "hidden": false,
         "locked": false
        }
       ],
       "scored": true,
       "setup": "",
       "teardown": "",
       "type": "doctest"
      }
     ]
    },
    "q1h": {
     "name": "q1h",
     "points": 3,
     "suites": [
      {
       "cases": [
        {
         "code": ">>> v1 = Vector(1, 2, 3)\n>>> v2 = Vector(4, 5, 6)\n>>> M = Matrix(v1, v2)\n>>> assert str(M.transpose()).strip() == '(1, 2, 3)\\n(4, 5, 6)'\n",
         "hidden": false,
         "locked": false
        }
       ],
       "scored": true,
       "setup": "",
       "teardown": "",
       "type": "doctest"
      }
     ]
    },
    "q1i": {
     "name": "q1i",
     "points": 2,
     "suites": [
      {
       "cases": [
        {
         "code": ">>> v1 = Vector(1, 2, 3)\n>>> v2 = Vector(4, 5, 6)\n>>> M = Matrix(v1, v2)\n>>> assert str(M @ M.transpose()).strip() == '(17, 22, 27)\\n(22, 29, 36)\\n(27, 36, 45)'\n",
         "hidden": false,
         "locked": false
        },
        {
         "code": ">>> v1 = Vector(1, 2, 3)\n>>> v2 = Vector(4, 5, 6)\n>>> M = Matrix(v1, v2)\n>>> try:\n...     M @ M\n... except ValueError:\n...     pass\n... else:\n...     raise Exception('Should raise a value error')\n",
         "hidden": false,
         "locked": false
        }
       ],
       "scored": true,
       "setup": "",
       "teardown": "",
       "type": "doctest"
      }
     ]
    },
    "q1j": {
     "name": "q1j",
     "points": 2,
     "suites": [
      {
       "cases": [
        {
         "code": ">>> v1 = Vector(1, 2, 3)\n>>> v2 = Vector(4, 5, 6)\n>>> M = Matrix(v1, v2)\n>>> assert M == M\n",
         "hidden": false,
         "locked": false
        }
       ],
       "scored": true,
       "setup": "",
       "teardown": "",
       "type": "doctest"
      }
     ]
    },
    "q2a": {
     "name": "q2a",
     "points": 3,
     "suites": [
      {
       "cases": [
        {
         "code": ">>> assert isinstance(Importance().run(enron(10)), dict)\n",
         "hidden": false,
         "locked": false
        },
        {
         "code": ">>> assert Importance().run(enron(10))[0] == 1\n",
         "hidden": false,
         "locked": false
        },
        {
         "code": ">>> assert Importance().run(enron(10))[1] == 1\n",
         "hidden": false,
         "locked": false
        },
        {
         "code": ">>> assert Importance().run(enron(1000))[1] == 56\n",
         "hidden": false,
         "locked": false
        }
       ],
       "scored": true,
       "setup": "",
       "teardown": "",
       "type": "doctest"
      }
     ]
    },
    "q2b": {
     "name": "q2b",
     "points": 4,
     "suites": [
      {
       "cases": [
        {
         "code": ">>> from collections import Counter\n>>> \n>>> assert isinstance(Forgetful().run(enron(1000)), Counter)\n",
         "hidden": false,
         "locked": false
        },
        {
         "code": ">>> assert len(Forgetful().run(enron(1000))) == 1\n",
         "hidden": false,
         "locked": false
        },
        {
         "code": ">>> assert Forgetful().run(enron(1000))[46] == 3\n",
         "hidden": false,
         "locked": false
        },
        {
         "code": ">>> assert 97 not in Forgetful().run(enron(10000))\n",
         "hidden": false,
         "locked": false
        }
       ],
       "scored": true,
       "setup": "",
       "teardown": "",
       "type": "doctest"
      }
     ]
    }
   }
  }
 },
 "nbformat": 4,
 "nbformat_minor": 5
}
