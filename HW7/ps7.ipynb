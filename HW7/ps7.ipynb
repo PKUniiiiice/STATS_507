{
 "cells": [
  {
   "cell_type": "code",
   "execution_count": 58,
   "id": "e2db0a17",
   "metadata": {
    "deletable": false,
    "editable": false
   },
   "outputs": [],
   "source": [
    "# Initialize Otter\n",
    "import otter\n",
    "grader = otter.Notebook(\"ps7.ipynb\")"
   ]
  },
  {
   "cell_type": "code",
   "execution_count": 59,
   "id": "2649d1ed",
   "metadata": {},
   "outputs": [],
   "source": [
    "import numpy as np\n"
   ]
  },
  {
   "cell_type": "markdown",
   "id": "4f1dcfbc",
   "metadata": {},
   "source": [
    "## Question 1: Down with `for` loops\n",
    "Each of the problems below contains a function that uses `for` loops to perform a certain operation on arrays. Your job is to rewrite these function using only Numpy array manipulations and library functions (e.g. `np.xxx()`). Do not use any `for` or `while` loops, iterators, generators, or list comprehensions in your solutions."
   ]
  },
  {
   "cell_type": "markdown",
   "id": "8b3724d5",
   "metadata": {
    "deletable": false,
    "editable": false
   },
   "source": [
    "**1(a)** (3 pts) Return all of the rows of the 2-D integer matrix `A` where where each entry of the row is distinct:"
   ]
  },
  {
   "cell_type": "code",
   "execution_count": 60,
   "id": "905fba44",
   "metadata": {
    "deletable": false,
    "editable": false
   },
   "outputs": [],
   "source": [
    "def distinct_rows_py(A):\n",
    "    'Return all rows of A that have completely distinct entries.'\n",
    "    return np.array([a for a in A if len(set(a)) == len(a)])"
   ]
  },
  {
   "cell_type": "code",
   "execution_count": 61,
   "id": "713c4d37",
   "metadata": {
    "deletable": false,
    "editable": false
   },
   "outputs": [
    {
     "data": {
      "text/plain": [
       "array([], dtype=float64)"
      ]
     },
     "execution_count": 61,
     "metadata": {},
     "output_type": "execute_result"
    }
   ],
   "source": [
    "A = np.eye(5)\n",
    "distinct_rows_py(A)"
   ]
  },
  {
   "cell_type": "code",
   "execution_count": 62,
   "id": "2e0df2c7",
   "metadata": {
    "deletable": false,
    "editable": false
   },
   "outputs": [
    {
     "data": {
      "text/plain": [
       "array([[0, 1, 2],\n",
       "       [3, 4, 5],\n",
       "       [6, 7, 8]])"
      ]
     },
     "execution_count": 62,
     "metadata": {},
     "output_type": "execute_result"
    }
   ],
   "source": [
    "A = np.arange(9).reshape(3, 3)\n",
    "distinct_rows_py(A)"
   ]
  },
  {
   "cell_type": "code",
   "execution_count": 63,
   "id": "a46126fd",
   "metadata": {
    "deletable": false,
    "editable": false
   },
   "outputs": [
    {
     "data": {
      "text/plain": [
       "array([[1, 2, 3]])"
      ]
     },
     "execution_count": 63,
     "metadata": {},
     "output_type": "execute_result"
    }
   ],
   "source": [
    "A = np.array([\n",
    "    [1, 2, 3],\n",
    "    [4, 4, 4],\n",
    "    [5, 6, 6]])\n",
    "distinct_rows_py(A)"
   ]
  },
  {
   "cell_type": "code",
   "execution_count": 64,
   "id": "9a10cf12",
   "metadata": {
    "tags": []
   },
   "outputs": [],
   "source": [
    "def distinct_rows_np(A):\n",
    "    #all distinct means strictly monotype (increasing or decresing)\n",
    "    srt = np.sort(A, axis=1)\n",
    "    idx = np.prod(np.diff(srt, axis=1), axis=1) != 0\n",
    "    return A[idx, :]"
   ]
  },
  {
   "cell_type": "code",
   "execution_count": 65,
   "id": "3a711caf",
   "metadata": {
    "deletable": false,
    "editable": false
   },
   "outputs": [
    {
     "data": {
      "text/html": [
       "<p><strong><pre style='display: inline;'>1a</pre></strong> passed! 🚀</p>"
      ],
      "text/plain": [
       "1a results: All test cases passed!"
      ]
     },
     "execution_count": 65,
     "metadata": {},
     "output_type": "execute_result"
    }
   ],
   "source": [
    "grader.check(\"1a\")"
   ]
  },
  {
   "cell_type": "markdown",
   "id": "aea34e9f",
   "metadata": {
    "deletable": false,
    "editable": false
   },
   "source": [
    "**1(b)** (3 pts) Given a vector $v$ of length $n$, and an integer $0<k<n$, return a 2D array as:\n",
    "```\n",
    "[[v[0], ..., v[k-1]],\n",
    " [v[1], ..., v[k]  ],\n",
    " [v[2], ..., v[k+1]],\n",
    " [ .     .       . ],\n",
    " [ .     .       . ],\n",
    " [ .     .       . ],\n",
    " [v[n-k+1, ..., v[n]]\n",
    " ```"
   ]
  },
  {
   "cell_type": "code",
   "execution_count": 66,
   "id": "2e581866",
   "metadata": {
    "deletable": false,
    "editable": false
   },
   "outputs": [],
   "source": [
    "def sliding_stack_py(v, k):\n",
    "    \"Stack sliding windows of v of length k.\"\n",
    "    rows = []\n",
    "    for i in range(len(v) - k + 1):\n",
    "        rows.append(v[i : (i + k)])\n",
    "    return np.array(rows)"
   ]
  },
  {
   "cell_type": "code",
   "execution_count": 67,
   "id": "7759204f",
   "metadata": {
    "deletable": false,
    "editable": false
   },
   "outputs": [
    {
     "data": {
      "text/plain": [
       "array([[1, 2, 3],\n",
       "       [2, 3, 4],\n",
       "       [3, 4, 5]])"
      ]
     },
     "execution_count": 67,
     "metadata": {},
     "output_type": "execute_result"
    }
   ],
   "source": [
    "sliding_stack_py(np.array([1, 2, 3, 4, 5]), 3)"
   ]
  },
  {
   "cell_type": "code",
   "execution_count": 68,
   "id": "34b00bd3",
   "metadata": {
    "tags": []
   },
   "outputs": [],
   "source": [
    "def sliding_stack_np(v, k):\n",
    "    n = len(v)\n",
    "    #broadcasting\n",
    "    idx = np.arange(k)[np.newaxis, :]+np.arange(n-k+1)[:, np.newaxis]\n",
    "    #or\n",
    "    #from numpy.lib.stride_tricks import sliding_window_view\n",
    "    #return sliding_window_view(v.flatten(), window_shape=k)\n",
    "    return v[idx]"
   ]
  },
  {
   "cell_type": "code",
   "execution_count": 69,
   "id": "09cea4e1",
   "metadata": {
    "deletable": false,
    "editable": false
   },
   "outputs": [
    {
     "data": {
      "text/html": [
       "<p><strong><pre style='display: inline;'>1b</pre></strong> passed! 🚀</p>"
      ],
      "text/plain": [
       "1b results: All test cases passed!"
      ]
     },
     "execution_count": 69,
     "metadata": {},
     "output_type": "execute_result"
    }
   ],
   "source": [
    "grader.check(\"1b\")"
   ]
  },
  {
   "cell_type": "markdown",
   "id": "ad3e2099",
   "metadata": {
    "deletable": false,
    "editable": false
   },
   "source": [
    "**1(c)** (3 pts) Given a vector of non-negative integers `v`, with `max(v) = m`, return a vector `c` of length `m + 1` such that `c[i]` is the number of times that the integer `i` appears in `v`."
   ]
  },
  {
   "cell_type": "code",
   "execution_count": 70,
   "id": "f4ab9399",
   "metadata": {
    "deletable": false,
    "editable": false
   },
   "outputs": [],
   "source": [
    "def digit_count_py(v):\n",
    "    m = max(v)\n",
    "    ret = np.zeros(m + 1, int)\n",
    "    for vv in v:\n",
    "        ret[vv] += 1\n",
    "    return ret"
   ]
  },
  {
   "cell_type": "code",
   "execution_count": 71,
   "id": "513d3be0",
   "metadata": {
    "deletable": false,
    "editable": false
   },
   "outputs": [
    {
     "data": {
      "text/plain": [
       "array([2, 2, 3, 1, 0, 1])"
      ]
     },
     "execution_count": 71,
     "metadata": {},
     "output_type": "execute_result"
    }
   ],
   "source": [
    "v = np.array([0, 0, 1, 1, 2, 2, 2, 3, 5])\n",
    "digit_count_py(v)"
   ]
  },
  {
   "cell_type": "code",
   "execution_count": 72,
   "id": "8eaf1385",
   "metadata": {
    "tags": []
   },
   "outputs": [],
   "source": [
    "def digit_count_np(v):\n",
    "    ret = np.zeros(v.max() + 1, int)\n",
    "    idx, cnt = np.unique(v, return_counts=True)\n",
    "    ret[idx] = cnt\n",
    "    return ret"
   ]
  },
  {
   "cell_type": "code",
   "execution_count": 73,
   "id": "d03b5323",
   "metadata": {
    "deletable": false,
    "editable": false
   },
   "outputs": [
    {
     "data": {
      "text/html": [
       "<p><strong><pre style='display: inline;'>1c</pre></strong> passed! 🌈</p>"
      ],
      "text/plain": [
       "1c results: All test cases passed!"
      ]
     },
     "execution_count": 73,
     "metadata": {},
     "output_type": "execute_result"
    }
   ],
   "source": [
    "grader.check(\"1c\")"
   ]
  },
  {
   "cell_type": "markdown",
   "id": "e6a71748",
   "metadata": {
    "deletable": false,
    "editable": false
   },
   "source": [
    "**1(d)** (3 pts extra credit) Call a square $n\\times n$ matrix $A$ *countersymmetric* if $A_{ij} = A_{n-j,n-i}$ for all $i$ and $j$. An example of such a matrix is:\n",
    "\n",
    "$$\n",
    "\\begin{pmatrix}\n",
    "4 & 3 & 2 & 1 & 0\\\\\n",
    "8 & 7 & 6 & 5 & 1\\\\\n",
    "11 & 10 & 9 & 6 & 2\\\\\n",
    "13 & 12 & 10 & 7 & 3\\\\\n",
    "14 & 13 & 11 & 8 & 4\n",
    "\\end{pmatrix}\n",
    "$$\n",
    "\n",
    "Write a function `is_countersym` that checks this property:"
   ]
  },
  {
   "cell_type": "code",
   "execution_count": 74,
   "id": "4a39c6ad",
   "metadata": {
    "deletable": false,
    "editable": false
   },
   "outputs": [],
   "source": [
    "def is_countersym_py(A):\n",
    "    \"Returns True if A is countersymmetric\"\n",
    "    n = A.shape[0]\n",
    "    for i in range(n):\n",
    "        for j in range(n):\n",
    "            if A[i, j] != A[n - j - 1, n - i - 1]:\n",
    "                return False\n",
    "    return True"
   ]
  },
  {
   "cell_type": "code",
   "execution_count": 75,
   "id": "b4164299",
   "metadata": {
    "deletable": false,
    "editable": false
   },
   "outputs": [
    {
     "data": {
      "text/plain": [
       "True"
      ]
     },
     "execution_count": 75,
     "metadata": {},
     "output_type": "execute_result"
    }
   ],
   "source": [
    "cs_matrix = np.array([[ 4,  3,  2,  1,  0], [ 8,  7,  6,  5,  1], [11, 10,  9,  6,  2], [13, 12, 10,  7,  3], [14, 13, 11,  8,  4]])\n",
    "is_countersym_py(cs_matrix)"
   ]
  },
  {
   "cell_type": "code",
   "execution_count": 76,
   "id": "8c8c3f11",
   "metadata": {
    "tags": []
   },
   "outputs": [],
   "source": [
    "def is_countersym_np(A):  \n",
    "    #1st symmetric over y-axis\n",
    "    aa = A[:, ::-1]\n",
    "    #2nd check whether aa is (normal) symmetric\n",
    "    return np.allclose(aa, aa.T)"
   ]
  },
  {
   "cell_type": "code",
   "execution_count": 77,
   "id": "41d03ddc",
   "metadata": {
    "deletable": false,
    "editable": false
   },
   "outputs": [
    {
     "data": {
      "text/html": [
       "<p><strong><pre style='display: inline;'>1d</pre></strong> passed! ✨</p>"
      ],
      "text/plain": [
       "1d results: All test cases passed!"
      ]
     },
     "execution_count": 77,
     "metadata": {},
     "output_type": "execute_result"
    }
   ],
   "source": [
    "grader.check(\"1d\")"
   ]
  },
  {
   "cell_type": "markdown",
   "id": "9bd64948",
   "metadata": {},
   "source": [
    "## Question 2: $k$-means clustering\n",
    "\n",
    "$k$-means is a fundamental algorithm for clustering multivariate data. The inputs to the algorithm are:\n",
    "- An $n\\times p$ data matrix $X$ consisting of $n$ observations of a $p$-dimensional feature vector, and\n",
    "- A $k\\times p$ matrix $C$ containing initial guesses for each $k$ cluster centers.\n",
    "\n",
    "The algorithm proceeds by iteratively a) assigning each point to the nearest cluster center, and b) recomputing the cluster centers as the mean of all of the currently assigned points. Here is a partial implementation:"
   ]
  },
  {
   "cell_type": "code",
   "execution_count": 78,
   "id": "be74bc59",
   "metadata": {},
   "outputs": [],
   "source": [
    "def kmeans(X, C):\n",
    "    \"\"\"\n",
    "    K-means algorithm.\n",
    "\n",
    "    Args:\n",
    "        - X: ndarray, shape (n, p), n observations of p-dimensional feature vector\n",
    "        - C: ndarray, shape (k, p), k initial cluster centers\n",
    "\n",
    "    Returns:\n",
    "        Tuple of length two:\n",
    "        The first entry is integer ndarray, shape (n), cluster assignments for each data point\n",
    "        The second entry is ndarray, shape (k, p), centers of each cluster\n",
    "    \"\"\"\n",
    "    assert X.shape[1] == C.shape[1]  # p should match\n",
    "    old_assignments = None\n",
    "    while True:\n",
    "        assignments = nearest_cluster(X, C)\n",
    "        if np.all(assignments == old_assignments):\n",
    "            # converged\n",
    "            return assignments, C\n",
    "        old_assignments = assignments\n",
    "        C = compute_centroids(X, assignments)"
   ]
  },
  {
   "cell_type": "markdown",
   "id": "04788dbd",
   "metadata": {},
   "source": [
    "You will finish implementing this algorithm by completing the missing functions `nearest_cluster()` and `compute_centroids()` below. Note: as in the Question 1, avoid using loops, iterators, or comprehensions. You can find solutions with only broadcasting"
   ]
  },
  {
   "cell_type": "markdown",
   "id": "8d875202",
   "metadata": {
    "deletable": false,
    "editable": false
   },
   "source": [
    "**2(a)** (3 pts) Implement the function `nearest_cluster`. It should take two array arguments, the data points `X` and the cluster centers `C`, and return an integer array giving the index in `C` which is nearest to each point in `X`."
   ]
  },
  {
   "cell_type": "code",
   "execution_count": 79,
   "id": "b7bfb10e",
   "metadata": {
    "tags": []
   },
   "outputs": [],
   "source": [
    "def nearest_cluster(X, C):\n",
    "    \"\"\"\n",
    "    For each point in X, find the nearest point in C.\n",
    "\n",
    "    Args:\n",
    "        X: ndarray, shape (n, p), n points of dimension p.\n",
    "        C: ndarray, shape (k, p), k points of dimension p.\n",
    "\n",
    "    Returns:\n",
    "        Integer array of length n, [j[1], j[2], ..., j[n]], such that |X[i] - C[j[i]]| <= |X[i] - C[ell]| for 1 <= ell <= k.\n",
    "    \"\"\"\n",
    "    #calculate distance\n",
    "    Xnew = X[:, np.newaxis] #shape (n, 1, p)\n",
    "    dist = np.linalg.norm(Xnew - C, ord=2, axis=2) #shape is (n, k, p) -> (n, k)\n",
    "    idx = np.argmin(dist, axis=1) #(n, )\n",
    "    return idx"
   ]
  },
  {
   "cell_type": "code",
   "execution_count": 80,
   "id": "7ae94df7",
   "metadata": {
    "deletable": false,
    "editable": false
   },
   "outputs": [
    {
     "data": {
      "text/html": [
       "<p><strong><pre style='display: inline;'>2a</pre></strong> passed! 🙌</p>"
      ],
      "text/plain": [
       "2a results: All test cases passed!"
      ]
     },
     "execution_count": 80,
     "metadata": {},
     "output_type": "execute_result"
    }
   ],
   "source": [
    "grader.check(\"2a\")"
   ]
  },
  {
   "cell_type": "markdown",
   "id": "5bbc22f5",
   "metadata": {
    "deletable": false,
    "editable": false
   },
   "source": [
    "**2(b)** (3 pts) Implement the function `compute_centroids`. It should take two array arguments, the data points `X` and the assignment array `a`, and return an $k \\times p$ array containing the cluster centroids (averages) for each point assigned to cluster $0, \\dots, k-1$. (You may assume that every entry of $a$ is between $0$ and $k-1$, inclusive.)"
   ]
  },
  {
   "cell_type": "code",
   "execution_count": 81,
   "id": "d1f0a28e",
   "metadata": {
    "tags": []
   },
   "outputs": [],
   "source": [
    "def compute_centroids(X, a):\n",
    "    '''\n",
    "    X:  (n, p) data   \n",
    "    a:  (n, ) assignment a[i] means no.i data is cluter i\n",
    "    '''\n",
    "    #a is group, find index -- how to change X to the order fo center 0 -> k-1\n",
    "    a_srt = np.argsort(a)\n",
    "\n",
    "    # get item # in each group\n",
    "    # id unique value (index, center #)\n",
    "    # pos The indices of the first occurrences of the unique values -- first occurrences defines the range of different centers\n",
    "    # cnt count of unique values\n",
    "    # why we need to sort a? -- reduceat needs it (increasing index required)\n",
    "    id, ocr_1st, cnt = np.unique(a[a_srt], return_index=True, return_counts=True)\n",
    "\n",
    "    # For i in range(len(indices)), reduceat computes ufunc.reduce(array[indices[i]:indices[i+1]]), which becomes the i-th generalized “row” parallel to axis in the final result\n",
    "    sum_gp = np.add.reduceat(X[a_srt], indices=ocr_1st, axis=0)\n",
    "    return sum_gp / cnt[:, np.newaxis]"
   ]
  },
  {
   "cell_type": "code",
   "execution_count": 82,
   "id": "3c811011",
   "metadata": {
    "deletable": false,
    "editable": false
   },
   "outputs": [
    {
     "data": {
      "text/html": [
       "<p><strong><pre style='display: inline;'>2b</pre></strong> passed! ✨</p>"
      ],
      "text/plain": [
       "2b results: All test cases passed!"
      ]
     },
     "execution_count": 82,
     "metadata": {},
     "output_type": "execute_result"
    }
   ],
   "source": [
    "grader.check(\"2b\")"
   ]
  },
  {
   "cell_type": "markdown",
   "id": "dfdac58c",
   "metadata": {
    "deletable": false,
    "editable": false
   },
   "source": [
    "**2(c)** (5 pts.) The performance of the $k$-means algorithm is known to depend heavily on the starting point (the initial clusters `C` passed in as the second argument.) In some cases, using a \"good\" starting point can dramatically improve the performance of the algorithm.\n",
    "\n",
    "The $k$-means++ algorithm is designed to find such a good starting point. [According to Wikipedia](https://en.wikipedia.org/wiki/K-means%2B%2B), the steps of $k$-means++ are:\n",
    "\n",
    "1. Choose one center uniformly at random among the data points.\n",
    "2. For each data point $x$ not chosen yet, compute $D(x)$, the distance between $x$ and the nearest center that has already been chosen.\n",
    "3. Choose one new data point at random as a new center, using a weighted probability distribution where a point $x$ is chosen with probability proportional to $D(x)^2$.\n",
    "4. Repeat Steps 2 and 3 until $k$ centers have been chosen.\n",
    "\n",
    "Implement this algorithm using the skeleton provided below. As before, your implementation should only use Numpy functions--no additional loops or comprehensions. \n",
    "\n",
    "**Note**: To ensure reproducibility, the parts of the algorithm that rely on ranndomness are provided for you. Your job is to fill in the missing lines necessary to complete the algoritm."
   ]
  },
  {
   "cell_type": "code",
   "execution_count": 83,
   "id": "99277565",
   "metadata": {
    "tags": []
   },
   "outputs": [],
   "source": [
    "def kmeanspp(X, k, rng):\n",
    "    \"\"\"\n",
    "    k-means++ algorithm.\n",
    "\n",
    "    Args:\n",
    "        - X: ndarray, shape (n, p), as above.\n",
    "        - k, the number of clusters.\n",
    "        - rng: instance of np.random.Generator().\n",
    "\n",
    "    Returns:\n",
    "        ndarray, shape (k, p), cluster centers.\n",
    "    \"\"\"\n",
    "    n, p = X.shape\n",
    "    C = np.zeros((k, p))\n",
    "    # step 1\n",
    "    #random choice from n, uniform dist\n",
    "    j = rng.choice(n)\n",
    "    C[0] = X[j]\n",
    "    for i in range(1, k):\n",
    "        # 0 -> has been chosen\n",
    "        # get the nearest center in C[0:i]\n",
    "        ctr_mch = C[nearest_cluster(X, C[0:i, :])]\n",
    "        # calculate distance, if is already cluster center, dist will be 0, no influence\n",
    "        w = np.sum((X - ctr_mch)**2, axis=1)\n",
    "        #normalize to 1\n",
    "        w = w / np.sum(w)\n",
    "        # step 3\n",
    "        j = rng.choice(n, p=w)\n",
    "        C[i] = X[j]\n",
    "    return C"
   ]
  },
  {
   "cell_type": "code",
   "execution_count": 84,
   "id": "aba5a634",
   "metadata": {
    "deletable": false,
    "editable": false
   },
   "outputs": [
    {
     "data": {
      "text/html": [
       "<p><strong><pre style='display: inline;'>2c</pre></strong> passed! 🌟</p>"
      ],
      "text/plain": [
       "2c results: All test cases passed!"
      ]
     },
     "execution_count": 84,
     "metadata": {},
     "output_type": "execute_result"
    }
   ],
   "source": [
    "grader.check(\"2c\")"
   ]
  },
  {
   "cell_type": "markdown",
   "id": "b47b1d9e",
   "metadata": {
    "deletable": false,
    "editable": false
   },
   "source": [
    "**2(d)** (2 pts) In order to measure how good a clustering is, we can define the *within-class variance* \n",
    "\n",
    "$$ V(\\mathbf{X}, \\mathbf{a}, \\mathbf{C}) = \\sum_{i=1}^n \\| \\mathbf{x}_i - \\mathbf{c}_{a_i} \\|^2,$$\n",
    "\n",
    "where the $i$-th element of $\\mathbf{a}=\\{a_1,\\dots,a_n\\}$ is the cluster assignment of observation $i$, and $\\mathbf{C}=(\\mathbf{c}_1,\\dots,\\mathbf{c}_k)$ are the centers of each cluster. Thus, $V(\\mathbf{X}, \\mathbf{a}, \\mathbf{C})$ is the sum of the squared distance from each data point to the center of its assigned cluster.\n",
    "\n",
    "Implement this function. (Again, no loops, just use Numpy functions.)"
   ]
  },
  {
   "cell_type": "code",
   "execution_count": 85,
   "id": "784b61f4",
   "metadata": {
    "tags": []
   },
   "outputs": [],
   "source": [
    "def V(X, a, C):\n",
    "    #match obs with center\n",
    "    ctr_mch = C[a]\n",
    "    return np.sum((X - ctr_mch)**2)\n",
    "    "
   ]
  },
  {
   "cell_type": "code",
   "execution_count": 86,
   "id": "0b3bb99b",
   "metadata": {
    "deletable": false,
    "editable": false
   },
   "outputs": [
    {
     "data": {
      "text/html": [
       "<p><strong><pre style='display: inline;'>2d</pre></strong> passed! 🚀</p>"
      ],
      "text/plain": [
       "2d results: All test cases passed!"
      ]
     },
     "execution_count": 86,
     "metadata": {},
     "output_type": "execute_result"
    }
   ],
   "source": [
    "grader.check(\"2d\")"
   ]
  },
  {
   "cell_type": "markdown",
   "id": "293124fc",
   "metadata": {
    "deletable": false,
    "editable": false
   },
   "source": [
    "## Submission\n",
    "\n",
    "Make sure you have run all cells in your notebook in order before running the cell below, so that all images/graphs appear in the output. The cell below will generate a zip file for you to submit. **Please save before exporting!**\n",
    "\n",
    "Upload this .zip file to Gradescope for grading."
   ]
  },
  {
   "cell_type": "code",
   "execution_count": 87,
   "id": "15bd0037",
   "metadata": {
    "deletable": false,
    "editable": false
   },
   "outputs": [
    {
     "data": {
      "text/html": [
       "\n",
       "                    <p>\n",
       "                        Your submission has been exported. Click\n",
       "                        <a href=\"ps7_2023_10_14T19_34_13_615062.zip\" downloadzip_path target=\"_blank\">here</a> to download\n",
       "                        the zip file.\n",
       "                    </p>\n",
       "                "
      ],
      "text/plain": [
       "<IPython.core.display.HTML object>"
      ]
     },
     "metadata": {},
     "output_type": "display_data"
    }
   ],
   "source": [
    "# Save your notebook first, then run this cell to export your submission.\n",
    "grader.export(pdf=False)"
   ]
  },
  {
   "cell_type": "markdown",
   "id": "a4069c4c",
   "metadata": {},
   "source": [
    " "
   ]
  }
 ],
 "metadata": {
  "kernelspec": {
   "display_name": "Python 3 (ipykernel)",
   "language": "python",
   "name": "python3"
  },
  "language_info": {
   "codemirror_mode": {
    "name": "ipython",
    "version": 3
   },
   "file_extension": ".py",
   "mimetype": "text/x-python",
   "name": "python",
   "nbconvert_exporter": "python",
   "pygments_lexer": "ipython3",
   "version": "3.11.3"
  },
  "otter": {
   "OK_FORMAT": true,
   "tests": {
    "1a": {
     "name": "1a",
     "points": 3,
     "suites": [
      {
       "cases": [
        {
         "code": ">>> A = np.eye(5)\n>>> np.testing.assert_allclose(distinct_rows_np(A), np.empty([0, 5]))\n",
         "hidden": false,
         "locked": false
        },
        {
         "code": ">>> A = np.array([[1, 2, 3], [4, 4, 4], [5, 6, 6]])\n>>> np.testing.assert_allclose(distinct_rows_np(A), np.array([[1, 2, 3]]))\n",
         "hidden": false,
         "locked": false
        }
       ],
       "scored": true,
       "setup": "",
       "teardown": "",
       "type": "doctest"
      }
     ]
    },
    "1b": {
     "name": "1b",
     "points": 3,
     "suites": [
      {
       "cases": [
        {
         "code": ">>> np.testing.assert_allclose(sliding_stack_np(np.array([1, 2, 3, 4, 5]), 3), np.array([[1, 2, 3],[2, 3, 4],[3, 4, 5]]))\n",
         "hidden": false,
         "locked": false
        },
        {
         "code": ">>> np.testing.assert_allclose(sliding_stack_np(np.array([1, 2, 3, 4, 5]), 5), np.array([[1, 2, 3, 4, 5]]))\n",
         "hidden": false,
         "locked": false
        }
       ],
       "scored": true,
       "setup": "",
       "teardown": "",
       "type": "doctest"
      }
     ]
    },
    "1c": {
     "name": "1c",
     "points": 3,
     "suites": [
      {
       "cases": [
        {
         "code": ">>> v = np.array([0, 0, 1, 1, 2, 2, 2, 3, 4])\n>>> np.testing.assert_allclose(digit_count_np(v), np.array([2, 2, 3, 1, 1]))\n",
         "hidden": false,
         "locked": false
        },
        {
         "code": ">>> v = np.array([0, 0, 0, 0, 2, 2, 2, 3, 4])\n>>> np.testing.assert_allclose(digit_count_np(v), np.array([4, 0, 3, 1, 1]))\n",
         "hidden": false,
         "locked": false
        }
       ],
       "scored": true,
       "setup": "",
       "teardown": "",
       "type": "doctest"
      }
     ]
    },
    "1d": {
     "name": "1d",
     "points": 3,
     "suites": [
      {
       "cases": [
        {
         "code": ">>> cs_matrix = np.array([[ 4,  3,  2,  1,  0], [ 8,  7,  6,  5,  1], [11, 10,  9,  6,  2], [13, 12, 10,  7,  3], [14, 13, 11,  8,  4]])\n>>> is_countersym_np(cs_matrix)\nTrue",
         "hidden": false,
         "locked": false
        },
        {
         "code": ">>> cs_matrix = np.array([[ 4,  3,  2,  1,  0], [ 8,  7,  5,  5,  1], [11, 10,  9,  6,  2], [13, 12, 10,  7,  3], [14, 13, 11,  8,  4]])\n>>> is_countersym_np(cs_matrix)\nFalse",
         "hidden": false,
         "locked": false
        }
       ],
       "scored": true,
       "setup": "",
       "teardown": "",
       "type": "doctest"
      }
     ]
    },
    "2a": {
     "name": "2a",
     "points": 3,
     "suites": [
      {
       "cases": [
        {
         "code": ">>> ans = np.array([0, 0, 0, 0, 1, 1, 1, 2, 2, 2])\n>>> X = np.array([[-1], [0.5], [1], [1.3], [1.6], [2], [2.3], [2.7], [3], [100]])\n>>> C = np.array([[1], [2], [3]])\n>>> np.testing.assert_allclose(nearest_cluster(X, C), ans)\n",
         "hidden": false,
         "locked": false
        },
        {
         "code": ">>> X = np.array([[-101, 1], [1,1], [1, 1.01], [1.5, 1.6], [2.5, -3], [2.5, 2.7], [3, 33]])\n>>> C = np.array([[1, 1], [2,2], [3,3]])\n>>> ans = np.array([0, 0, 0, 1, 0, 2, 2])\n>>> np.testing.assert_allclose(nearest_cluster(X, C), ans)\n",
         "hidden": false,
         "locked": false
        }
       ],
       "scored": true,
       "setup": "",
       "teardown": "",
       "type": "doctest"
      }
     ]
    },
    "2b": {
     "name": "2b",
     "points": 3,
     "suites": [
      {
       "cases": [
        {
         "code": ">>> import numpy as np\n>>> np.random.seed(1)\n>>> X = np.random.rand(30, 2)\n>>> a = np.random.randint(0, 5, size=30)\n>>> assert compute_centroids(X, a).shape == (5, 2)\n>>> assert np.allclose(X[a == 0].mean(axis=0), compute_centroids(X, a)[0])\n",
         "hidden": false,
         "locked": false
        }
       ],
       "scored": true,
       "setup": "",
       "teardown": "",
       "type": "doctest"
      }
     ]
    },
    "2c": {
     "name": "2c",
     "points": 5,
     "suites": [
      {
       "cases": [
        {
         "code": ">>> import numpy as np\n>>> \n>>> np.random.seed(1)\n>>> X = np.random.rand(30, 4)\n>>> k = 2\n>>> rng = np.random.default_rng(12345)\n>>> assert kmeanspp(X, k, rng).shape == (2, 4)\n>>> ans = np.array([[0.87638915, 0.89460666, 0.08504421, 0.03905478], \n...                 [0.6634415 , 0.62169572, 0.11474597, 0.94948926]])\n>>> np.testing.assert_allclose(kmeanspp(X, k, rng), ans)\n",
         "hidden": false,
         "locked": false
        }
       ],
       "scored": true,
       "setup": "",
       "teardown": "",
       "type": "doctest"
      }
     ]
    },
    "2d": {
     "name": "2d",
     "points": 2,
     "suites": [
      {
       "cases": [
        {
         "code": ">>> X = np.arange(9).reshape(3, 3)\n>>> a = np.arange(3)\n>>> C = 2 + X\n>>> np.testing.assert_allclose(V(X, a, C), 36)\n",
         "hidden": false,
         "locked": false
        }
       ],
       "scored": true,
       "setup": "",
       "teardown": "",
       "type": "doctest"
      }
     ]
    }
   }
  }
 },
 "nbformat": 4,
 "nbformat_minor": 5
}
