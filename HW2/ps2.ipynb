{
 "cells": [
  {
   "cell_type": "code",
   "execution_count": 128,
   "metadata": {
    "deletable": false,
    "editable": false
   },
   "outputs": [],
   "source": [
    "# Initialize Otter\n",
    "import otter\n",
    "grader = otter.Notebook(\"ps2.ipynb\")"
   ]
  },
  {
   "cell_type": "markdown",
   "metadata": {},
   "source": [
    "# STATS 507\n",
    "## Problem Set 2\n",
    "We'll be using the `math` module a few times:"
   ]
  },
  {
   "cell_type": "code",
   "execution_count": 129,
   "metadata": {},
   "outputs": [],
   "source": [
    "import math\n",
    "import wrap_test"
   ]
  },
  {
   "cell_type": "markdown",
   "metadata": {},
   "source": [
    "All functions will be tested by visible as well as hidden tests. The maximum amount of time any function is allowed to run is 10 seconds."
   ]
  },
  {
   "cell_type": "markdown",
   "metadata": {},
   "source": [
    "### Question 1: Euclid's algorithm \n",
    "Euclid's algorithm (<https://en.wikipedia.org/wiki/Euclidean_algorithm>)\n",
    "is a method for finding the greatest common divisor (GCD) of two\n",
    "numbers. Recall that the GCD of two numbers $m$ and $n$ is the largest\n",
    "number that divides both $m$ and $n$."
   ]
  },
  {
   "cell_type": "markdown",
   "metadata": {
    "deletable": false,
    "editable": false
   },
   "source": [
    "**1(a)** (4 pts.) The Wikipedia page above includes several pseudocode implementations\n",
    "    of Euclid's algorithm. Choose one of these, and use it to implement\n",
    "    a function `gcd(m,n)`, which takes two integers as its arguments and\n",
    "    returns their GCD. You may assume that both inputs are integers, so\n",
    "    there is no need to include any error checking in your function. \n",
    "    \n",
    "   **Note**: There are many existing library functions, such as `math.gcd()`, available for calculating this. Do not use them: your job is to implement this function by hand."
   ]
  },
  {
   "cell_type": "code",
   "execution_count": 130,
   "metadata": {
    "tags": []
   },
   "outputs": [],
   "source": [
    "def gcd(m, n):\n",
    "    \"Returns the greatest common divisor of integers m and n.\"\n",
    "    #solve negative input\n",
    "    m, n = abs(m), abs(n)\n",
    "    \n",
    "    while n != 0:\n",
    "        m, n = n, m % n\n",
    "    return m "
   ]
  },
  {
   "cell_type": "code",
   "execution_count": 131,
   "metadata": {
    "deletable": false,
    "editable": false
   },
   "outputs": [
    {
     "data": {
      "text/html": [
       "<p><strong><pre style='display: inline;'>q1a</pre></strong> passed! 🍀</p>"
      ],
      "text/plain": [
       "q1a results: All test cases passed!"
      ]
     },
     "execution_count": 131,
     "metadata": {},
     "output_type": "execute_result"
    }
   ],
   "source": [
    "grader.check(\"q1a\")"
   ]
  },
  {
   "cell_type": "markdown",
   "metadata": {
    "deletable": false,
    "editable": false
   },
   "source": [
    "<!-- BEGIN QUESTION -->\n",
    "\n",
    "**1(b)** (1 pt.) What does your function do if one or both of its arguments are negative? Does this behavior make sense?"
   ]
  },
  {
   "cell_type": "markdown",
   "metadata": {},
   "source": [
    "We've identified two approaches for handling potential negative inputs.\n",
    "\n",
    "1. Since we're interested in finding the GCD, which is always a positive integer, we primarily focus on the magnitude of the numbers. The sign of the inputs doesn't affect the magnitude of the result. Therefore, a straightforward solution is to begin by taking the absolute values of $m$ and $n$ before proceeding with the standard algorithm.\n",
    "\n",
    "2. Alternatively, we can follow the pseudocode provided in (wiki)[https://en.wikipedia.org/wiki/Euclidean_algorithm], but modify the `return m` statement to `return abs(m)`. To demonstrate its correctness, we can offer the following explanation:\n",
    "\n",
    "    > In python, the modulo operator % always yields a result with the same sign as its second operand (or zero); the absolute value of the result is strictly smaller than the absolute value of the second operand.\n",
    "\n",
    "    Note that in `m, n = n, m % n`, the latest $m$ is last $n$ and latest $n$ is remainder of $m/n$, so the latest $m$ and $n$ always share the same sign (both positive or negative). By the calculation method of modulo, we can prove that `m%n == -(-m)%(-n)`. This implies that when both the latest $m$ and $n$ are negative, their updates are unaffected, except for the sign compared to the scenario in which both $m$ and $n$ are positive.  Hence, we only need to change the return value from $m$ to $abs(m)$ to obtain the correct GCD."
   ]
  },
  {
   "cell_type": "markdown",
   "metadata": {
    "deletable": false,
    "editable": false
   },
   "source": [
    "<!-- END QUESTION -->\n",
    "\n",
    "### Question 2: Approximating $e$\n",
    "The base of the natural logarithm, $e$, is typically defined as the\n",
    "infinite sum \n",
    "$$\n",
    "e = \\sum_{k=0}^\\infty \\frac{1}{k!}\n",
    "= 1 + 1 + \\frac{1}{2} + \\frac{1}{6} + \\frac{1}{24} + \\dots,$$ where $k!$ denotes the factorial of $k$,\n",
    "$$\n",
    "k! = k \\cdot (k-1) \\cdot (k-2) \\cdot \\dots \\cdot 3 \\cdot 2 \\cdot 1,\n",
    "$$\n",
    "where we define $0!=1$ by convention. For more on Euler's number, see\n",
    "<https://en.wikipedia.org/wiki/E_(mathematical_constant)>. In this\n",
    "problem, we will explore different approaches to approximating this\n",
    "number.\n"
   ]
  },
  {
   "cell_type": "markdown",
   "metadata": {
    "deletable": false,
    "editable": false,
    "jp-MarkdownHeadingCollapsed": true,
    "tags": []
   },
   "source": [
    "**2(a)** (2 pts.) An early characterization of Euler's number, due to Jacob Bernoulli,\n",
    "    was as the limit\n",
    "    $$e = \\lim_{x\\to\\infty} \\left(1 + \\frac{1}{x}\\right)^x.$$ Define a function called `e_limit(n)` that takes as an argument an integer $n$, and returns a `float` that approximates $e$ by taking $x=n$ in the above equation. You may assume that the input to your function will be a positive integer (of course, your function will still run just fine if $n$ is, say, a positive float, but we will only use integer values in what follows)."
   ]
  },
  {
   "cell_type": "code",
   "execution_count": 132,
   "metadata": {
    "tags": []
   },
   "outputs": [],
   "source": [
    "def e_limit(n):\n",
    "    \"Approximates Euler's number using the limit definition.\"\n",
    "    return (1+1/n)**n"
   ]
  },
  {
   "cell_type": "code",
   "execution_count": 133,
   "metadata": {
    "deletable": false,
    "editable": false
   },
   "outputs": [
    {
     "data": {
      "text/html": [
       "<p><strong><pre style='display: inline;'>q2a</pre></strong> passed! 🎉</p>"
      ],
      "text/plain": [
       "q2a results: All test cases passed!"
      ]
     },
     "execution_count": 133,
     "metadata": {},
     "output_type": "execute_result"
    }
   ],
   "source": [
    "grader.check(\"q2a\")"
   ]
  },
  {
   "cell_type": "markdown",
   "metadata": {
    "deletable": false,
    "editable": false,
    "jp-MarkdownHeadingCollapsed": true,
    "tags": []
   },
   "source": [
    "<!-- BEGIN QUESTION -->\n",
    "\n",
    "**2(b)** (1 pt.) What happens when you call `e_limit(n)` for really huge values of `n` (say,\n",
    "    $10^{16}$ or $10^{18}$)? Why does this happen? **Hint:** the answer\n",
    "    has to do with floating point arithmetic. Think about how $1/n$ is\n",
    "    represented on your computer when $n$ is big."
   ]
  },
  {
   "cell_type": "markdown",
   "metadata": {},
   "source": [
    "For really huge values of `n`, the function is highly likely to return `1.0`. This is due to the way floating-point arithmetic works in Python, following the IEEE 754 standard for representing floating-point numbers.\n",
    "\n",
    "On a typical 64-bit computer, a floating-point number consists of 1 sign bit, 11 exponent bits, and 53 fraction bits (with one bit implicit). This means that the smallest representable value for $1/n$ (when added to 1) is theoretically $2^{-52}$ or approximately 2.22e-16, as indicated by `sys.float_info.epsilon`.\n",
    "\n",
    "Therefore, when $1/n$ becomes smaller than this value ($n \\sim > 10^{16}$), it results in the loss of precision, causing $1 + 1/n$ to evaluate to 1.0. Consequently, any subsequent calculation involving exponentiation will also yield 1.0."
   ]
  },
  {
   "cell_type": "markdown",
   "metadata": {
    "deletable": false,
    "editable": false,
    "jp-MarkdownHeadingCollapsed": true,
    "tags": []
   },
   "source": [
    "<!-- END QUESTION -->\n",
    "\n",
    "**2(c)** (2 pts.) Define a function called `e_series` that takes a single non-negative integer\n",
    "    argument `n`, and returns an approximation to $e$ based on the first\n",
    "    `n` terms of the infinite sum shown above. Your function should return a float. You may again assume that the input will be a non-negative integer, so you do not need to include error checking in your function. As an example, `e_series(4)` should return the sum of the first four terms the series, i.e. $1 + 1 + 1/2 + 1/6 \\approx 2.667$. \n",
    "\n",
    "Notes:\n",
    "\n",
    "- The sum the equation starts counting with $k=0$ (i.e., it is \"$0$-indexed\"), while our function starts counting with $n=1$ (i.e., it is \"$1$-indexed\"). `e_series(1)` should use *one* term, so that `e_series(1) == 1`. Similarly, `e_series(0)` should return $0$, since by convention an empty sum is equal to zero.\n",
    "- You may use the function `math.factorial(k)` to compute $k!$, but I\n",
    "    recommend, for the sake of practice, implementing the factorial\n",
    "    function yourself, as it is a nice example of a problem that is\n",
    "    easily solved with recursion."
   ]
  },
  {
   "cell_type": "code",
   "execution_count": 134,
   "metadata": {
    "tags": []
   },
   "outputs": [],
   "source": [
    "def my_fctl(k):\n",
    "    return k*my_fctl(k-1) if k != 0 else 1\n",
    "\n",
    "def e_series(n):\n",
    "    \"Approximates Euler's number using the series definition.\"\n",
    "    return sum([1/my_fctl(i) for i in range(n)])"
   ]
  },
  {
   "cell_type": "code",
   "execution_count": 135,
   "metadata": {
    "deletable": false,
    "editable": false
   },
   "outputs": [
    {
     "data": {
      "text/html": [
       "<p><strong><pre style='display: inline;'>q2c</pre></strong> passed! 🍀</p>"
      ],
      "text/plain": [
       "q2c results: All test cases passed!"
      ]
     },
     "execution_count": 135,
     "metadata": {},
     "output_type": "execute_result"
    }
   ],
   "source": [
    "grader.check(\"q2c\")"
   ]
  },
  {
   "cell_type": "markdown",
   "metadata": {
    "deletable": false,
    "editable": false,
    "jp-MarkdownHeadingCollapsed": true,
    "tags": []
   },
   "source": [
    "**2(d)** (2 pts.) Define a function called `error_table(N)` takes a single positive\n",
    "    integer `N` as an argument and returns a data structure containing the _relative_ error between the\n",
    "    approximations given by, respectively, `e_limit` and `e_series`. `error_table(N)` should return a\n",
    "    list of length $N$. The $k$-th entry of the list, `error_table(N)[k]`, should be a `dict` with two keys, `err_limit` and `err_series`, giving the relative errors for each approach when $n=k+1$:\n",
    "```\n",
    ">>> error_table(1)\n",
    "[{'err_limit': 0.26424111765711533, 'err_series': 0.6321205588285577}]\n",
    "```\n",
    "(The first entry of the list is shown.)\n",
    "**Note**: the true value of $e$, accurate to machine precision, can be obtained as `math.e`."
   ]
  },
  {
   "cell_type": "code",
   "execution_count": 136,
   "metadata": {
    "tags": []
   },
   "outputs": [],
   "source": [
    "def error_table(N):\n",
    "    \"Table of relative errors for e_limit(k) and e_series(k) for k=1,...,N.\"\n",
    "    return [{\n",
    "             'err_limit': abs(math.e - e_limit(i+1))/math.e,\n",
    "             'err_series': abs(math.e - e_series(i+1))/math.e\n",
    "             } for i in range(N)]"
   ]
  },
  {
   "cell_type": "code",
   "execution_count": 137,
   "metadata": {
    "deletable": false,
    "editable": false
   },
   "outputs": [
    {
     "data": {
      "text/html": [
       "<p><strong><pre style='display: inline;'>q2d</pre></strong> passed! 🌟</p>"
      ],
      "text/plain": [
       "q2d results: All test cases passed!"
      ]
     },
     "execution_count": 137,
     "metadata": {},
     "output_type": "execute_result"
    }
   ],
   "source": [
    "grader.check(\"q2d\")"
   ]
  },
  {
   "cell_type": "markdown",
   "metadata": {
    "deletable": false,
    "editable": false,
    "tags": []
   },
   "source": [
    "<!-- BEGIN QUESTION -->\n",
    "\n",
    "**2(e)** (2 pt.) \n",
    "\n",
    "**Activation Functions**\n",
    "\n",
    "Later in this course, you will be applying many [activation functions](https://en.wikipedia.org/wiki/Activation_function) to the different layers of your neural network (NN). While the meaning of NN you will learn later, activation functions themselves are simple concepts. In this exercise you will implement LeakyReLU & Tanh activation functions.\n",
    "\n",
    "**Leaky RELU (rectified linear unit)**\n",
    "\n",
    "Leaky RELU function is given by:\n",
    "\n",
    "$$f(x) = {\\displaystyle {\\begin{cases} 0.01x {\\text    {  if }}x\\leq 0\\\\x {\\text{  if }}x>0\\end{cases}}} $$\n",
    "\n",
    "\n",
    "**Tanh**\n",
    "\n",
    "Tanh function a.k.a hyperbolic tangent is given by\n",
    "\n",
    "$${\\displaystyle \\tanh(x)\\doteq {\\frac {e^{x}-e^{-x}}{e^{x}+e^{-x}}}}$$\n",
    "\n",
    "Although you have derived the value of 'e' in the earlier exercise, you will be using the standard **math** module to compute the value of $e^x$. \n",
    "\n",
    "Please complete the leaky_relu and tanh functions below to return values appropriately:"
   ]
  },
  {
   "cell_type": "code",
   "execution_count": 138,
   "metadata": {
    "tags": []
   },
   "outputs": [],
   "source": [
    "def leaky_relu(x):\n",
    "    x = float(x)\n",
    "    return 0.01*x if x<=0 else x\n",
    "    "
   ]
  },
  {
   "cell_type": "code",
   "execution_count": 139,
   "metadata": {
    "tags": []
   },
   "outputs": [],
   "source": [
    "def tanh(x):\n",
    "    x = float(x)\n",
    "    return (1-2/(math.expm1(2*x)+2))"
   ]
  },
  {
   "cell_type": "code",
   "execution_count": 140,
   "metadata": {
    "deletable": false,
    "editable": false
   },
   "outputs": [
    {
     "data": {
      "text/html": [
       "<p><strong><pre style='display: inline;'>q2e</pre></strong> passed! ✨</p>"
      ],
      "text/plain": [
       "q2e results: All test cases passed!"
      ]
     },
     "execution_count": 140,
     "metadata": {},
     "output_type": "execute_result"
    }
   ],
   "source": [
    "grader.check(\"q2e\")"
   ]
  },
  {
   "cell_type": "markdown",
   "metadata": {
    "deletable": false,
    "editable": false
   },
   "source": [
    "<!-- END QUESTION -->\n",
    "\n",
    "### Question 3: Root finding and minimization\n",
    "Recall that a *root* $r$ of a function $f:\\mathbb{R}\\to\\mathbb{R}$ satisfies $f(r)=0$. The [bisection method](https://en.wikipedia.org/wiki/Bisection_method) is a generic algorithm for finding the root of a continuous, real-valued function. "
   ]
  },
  {
   "cell_type": "markdown",
   "metadata": {
    "deletable": false,
    "editable": false,
    "jp-MarkdownHeadingCollapsed": true,
    "tags": []
   },
   "source": [
    "**3(a)** (4 pts.) Write a function `find_root(f, a, b)` which uses the bisection method to locate a root of the function $f$ on the interval $[a,b]$. Here, $f$ is a Python function which accepts a single float, and returns a float (i.e., a real-valued function of one variable.) You may assume that $f$ is continuous and that $f(a)$ and $f(b)$ have different signs, that is, `sgn(f(a)) != sgn(f(b))` where `sgn(x)` is the sign function:"
   ]
  },
  {
   "cell_type": "code",
   "execution_count": 141,
   "metadata": {
    "deletable": false,
    "editable": false
   },
   "outputs": [],
   "source": [
    "def sgn(x):\n",
    "    if x < 0:\n",
    "        return -1\n",
    "    if x > 0:\n",
    "        return 1\n",
    "    return 0"
   ]
  },
  {
   "cell_type": "markdown",
   "metadata": {
    "deletable": false,
    "editable": false
   },
   "source": [
    "(**Note**: due to finite precision issues mentioned above, your algorithm may not find an exact root of $f$, i.e. a number such that `f(r) == 0.0`. We will say that $r$ is a root if $|f(r)|<10^{-16}$.)"
   ]
  },
  {
   "cell_type": "code",
   "execution_count": 142,
   "metadata": {
    "tags": []
   },
   "outputs": [],
   "source": [
    "def find_root(f, a, b):\n",
    "    \"Find a root of f(x) in the interval [a, b], assuming that sgn(f(a)) != sgn(f(b)).\"\n",
    "    if a>b:\n",
    "        a, b = b, a\n",
    "    while True:\n",
    "        mid = (a+b)/2\n",
    "        if abs(f(mid)) < 1e-16:\n",
    "            return mid\n",
    "        if sgn(f(a))*sgn(f(mid)) < 0:\n",
    "            b = mid\n",
    "        else:\n",
    "            a = mid"
   ]
  },
  {
   "cell_type": "code",
   "execution_count": 143,
   "metadata": {
    "deletable": false,
    "editable": false
   },
   "outputs": [
    {
     "data": {
      "text/html": [
       "<p><strong><pre style='display: inline;'>q3a</pre></strong> passed! 🍀</p>"
      ],
      "text/plain": [
       "q3a results: All test cases passed!"
      ]
     },
     "execution_count": 143,
     "metadata": {},
     "output_type": "execute_result"
    }
   ],
   "source": [
    "grader.check(\"q3a\")"
   ]
  },
  {
   "cell_type": "markdown",
   "metadata": {
    "deletable": false,
    "editable": false,
    "jp-MarkdownHeadingCollapsed": true,
    "tags": []
   },
   "source": [
    "<!-- BEGIN QUESTION -->\n",
    "\n",
    "**3(b)** (2 pts.) Suppose that $f:[a,b]\\to\\mathbb{R}$ is a strictly convex and continuously differentiable function. Let $x^*\\in [a,b]$ be such that $f(x^*) \\le f(x)$ for all $x\\in[a,b]$. Explain using calculus how to use the root finding algorithm you implemented above to find $x^*$."
   ]
  },
  {
   "cell_type": "markdown",
   "metadata": {},
   "source": [
    "(1) By [extreme value theorem](https://en.wikipedia.org/wiki/Extreme_value_theorem), as $f$ is continuously differentiable, we claim that the $x^*$ described above must exist.     \n",
    "\n",
    "(2) By (1) and property of strictly convex, we must have one unique $x^*$. (ref: [click](https://math.stackexchange.com/questions/1435502/question-about-existance-of-global-minimum-in-a-strictly-convex-function))     \n",
    "\n",
    "(3) There are three choices for $x^*$: $x^* \\in (a,b)$, $x^*=a$ and $x^*=b$.     \n",
    "\n",
    "(4) If $x^* \\in (a,b)$, then $f'(x^*)=0$. So we can solve $f'(x)=0$ to get $x^*$. However, we need to show that we can get one unique solution of $f'(x)=0$.    \n",
    "\n",
    "(4.1) By continuously differentiability of $f$, $f'$ is continuous on $[a,b]$. By strictly convexity of $f$, $f'$ is strictly increasing (ref: [click](https://proofwiki.org/wiki/Real_Function_is_Strictly_Convex_iff_Derivative_is_Strictly_Increasing) ). Since $f'$ is continuous and strictly increasing, if the root exists, it must be unique.    \n",
    "\n",
    "(5) By (4) and (4.1), we solve $f'(x)=0$ on $x\\in (a,b)$. If we get the root, then retrun it.    \n",
    "\n",
    "(6) If we don't get root on $(a,b)$. Then $x^*$ must be either $a$ or $b$. In (4.1) we show that $f'$ is stricly increasing. So,    \n",
    "\n",
    "(6.1) If $f'(a)<0$, in the neighbor of $a$, we must have $f'<0$, then f decrease in the neighbor, so the minimum point can't be $a$, i.e. $x^*=b$.       \n",
    "(6.2) If $f'(a)\\geq 0$, $f'(x)>f'(a) \\geq 0$, f strictly increases, so $x^*=a$.      \n"
   ]
  },
  {
   "cell_type": "markdown",
   "metadata": {
    "deletable": false,
    "editable": false,
    "jp-MarkdownHeadingCollapsed": true,
    "tags": []
   },
   "source": [
    "<!-- END QUESTION -->\n",
    "\n",
    "**3(c)** (4 pts.) Write a function `minimize(f_prime, a, b)` that minimizes a function $f$ satisfying the assumptions of the previous question. Here `f_prime` is a function that returns the derivative of $f$ evaluated at the point $x$."
   ]
  },
  {
   "cell_type": "code",
   "execution_count": 144,
   "metadata": {
    "tags": []
   },
   "outputs": [],
   "source": [
    "def minimize(f_prime, a, b):\n",
    "    \"\"\"\n",
    "    Minimizes the convex function f over the interval [a,b].\n",
    "    \n",
    "    Args:\n",
    "        f_prime: a function representing the (continuous) derivative of f.\n",
    "        a, b: interval on which f is defined.\n",
    "        \n",
    "    Returns:\n",
    "        The point x at which f is minimized.\n",
    "    \"\"\"\n",
    "    if sgn(f_prime(a))*sgn(f_prime(b))<0:\n",
    "        return find_root(f_prime, a, b)\n",
    "    else:\n",
    "        return b if f_prime(a)<0 else a"
   ]
  },
  {
   "cell_type": "code",
   "execution_count": 145,
   "metadata": {
    "deletable": false,
    "editable": false
   },
   "outputs": [
    {
     "data": {
      "text/html": [
       "<p><strong><pre style='display: inline;'>q3c</pre></strong> passed! ✨</p>"
      ],
      "text/plain": [
       "q3c results: All test cases passed!"
      ]
     },
     "execution_count": 145,
     "metadata": {},
     "output_type": "execute_result"
    }
   ],
   "source": [
    "grader.check(\"q3c\")"
   ]
  },
  {
   "cell_type": "markdown",
   "metadata": {
    "deletable": false,
    "editable": false
   },
   "source": [
    "## Submission\n",
    "\n",
    "Make sure you have run all cells in your notebook in order before running the cell below, so that all images/graphs appear in the output. The cell below will generate a zip file for you to submit. **Please save before exporting!**\n",
    "\n",
    "Upload this .zip file to Gradescope for grading."
   ]
  },
  {
   "cell_type": "code",
   "execution_count": 146,
   "metadata": {
    "deletable": false,
    "editable": false
   },
   "outputs": [
    {
     "data": {
      "text/html": [
       "\n",
       "                    <p>\n",
       "                        Your submission has been exported. Click\n",
       "                        <a href=\"ps2_2023_09_15T06_36_19_651871.zip\" downloadzip_path target=\"_blank\">here</a> to download\n",
       "                        the zip file.\n",
       "                    </p>\n",
       "                "
      ],
      "text/plain": [
       "<IPython.core.display.HTML object>"
      ]
     },
     "metadata": {},
     "output_type": "display_data"
    }
   ],
   "source": [
    "# Save your notebook first, then run this cell to export your submission.\n",
    "grader.export(pdf=False)"
   ]
  },
  {
   "cell_type": "markdown",
   "metadata": {},
   "source": [
    " "
   ]
  }
 ],
 "metadata": {
  "kernelspec": {
   "display_name": "Python 3 (ipykernel)",
   "language": "python",
   "name": "python3"
  },
  "language_info": {
   "codemirror_mode": {
    "name": "ipython",
    "version": 3
   },
   "file_extension": ".py",
   "mimetype": "text/x-python",
   "name": "python",
   "nbconvert_exporter": "python",
   "pygments_lexer": "ipython3",
   "version": "3.11.3"
  },
  "otter": {
   "OK_FORMAT": true,
   "tests": {
    "q1a": {
     "name": "q1a",
     "points": 4,
     "suites": [
      {
       "cases": [
        {
         "code": ">>> gcd(0, 0) == 0\nTrue",
         "hidden": false,
         "locked": false
        },
        {
         "code": ">>> for m in range(1, 10):\n...     assert gcd(0, m) == m\n",
         "hidden": false,
         "locked": false
        },
        {
         "code": ">>> gcd(1, 1) == 1\nTrue",
         "hidden": false,
         "locked": false
        },
        {
         "code": ">>> for m in range(-10, 10):\n...     assert gcd(m, 1) == 1\n...     assert gcd(m, 2) == 2 - (m % 2)\n",
         "hidden": false,
         "locked": false
        }
       ],
       "scored": true,
       "setup": "",
       "teardown": "",
       "type": "doctest"
      }
     ]
    },
    "q2a": {
     "name": "q2a",
     "points": 2,
     "suites": [
      {
       "cases": [
        {
         "code": ">>> e_limit(1) == 2.\nTrue",
         "hidden": false,
         "locked": false
        },
        {
         "code": ">>> e_limit(2) == 2.25\nTrue",
         "hidden": false,
         "locked": false
        }
       ],
       "scored": true,
       "setup": "",
       "teardown": "",
       "type": "doctest"
      }
     ]
    },
    "q2c": {
     "name": "q2c",
     "points": 2,
     "suites": [
      {
       "cases": [
        {
         "code": ">>> e_series(0) == 0\nTrue",
         "hidden": false,
         "locked": false
        },
        {
         "code": ">>> e_series(1) == 1.\nTrue",
         "hidden": false,
         "locked": false
        }
       ],
       "scored": true,
       "setup": "",
       "teardown": "",
       "type": "doctest"
      }
     ]
    },
    "q2d": {
     "name": "q2d",
     "points": 2,
     "suites": [
      {
       "cases": [
        {
         "code": ">>> for k in range(1, 5, 10):\n...     assert len(error_table(k)) == k\n",
         "hidden": false,
         "locked": false
        },
        {
         "code": ">>> assert abs(error_table(1)[0]['err_limit'] - 0.26424111765711533) < 1e-6\n>>> assert abs(error_table(1)[0]['err_series'] - 0.6321205588285577) < 1e-6\n",
         "hidden": false,
         "locked": false
        }
       ],
       "scored": true,
       "setup": "",
       "teardown": "",
       "type": "doctest"
      }
     ]
    },
    "q2e": {
     "name": "q2e",
     "points": 2,
     "suites": [
      {
       "cases": [
        {
         "code": ">>> assert leaky_relu(1) == 1\n>>> assert leaky_relu(0) == 0\n>>> assert leaky_relu(-1) == -0.01\n>>> \n>>> assert tanh(1) == 0.7615941559557649\n>>> assert tanh(100) == 1\n>>> assert tanh(-100) == -1\n",
         "hidden": false,
         "locked": false
        }
       ],
       "scored": true,
       "setup": "",
       "teardown": "",
       "type": "doctest"
      }
     ]
    },
    "q3a": {
     "name": "q3a",
     "points": 4,
     "suites": [
      {
       "cases": [
        {
         "code": ">>> import wrap_test\n>>> def test4a1():\n...     f = lambda x: x ** 3\n...     r = find_root(f, -4, 3)\n...     assert abs(f(r)) < 1e-16\n>>> wrap_test.wrap_test(test4a1)\n",
         "hidden": false,
         "locked": false
        },
        {
         "code": ">>> import wrap_test\n>>> def test4a2():\n...     r = find_root(math.cos, 0, 3.14)\n...     assert abs(math.cos(r)) < 1e-16\n>>> wrap_test.wrap_test(test4a2)\n",
         "hidden": false,
         "locked": false
        }
       ],
       "scored": true,
       "setup": "",
       "teardown": "",
       "type": "doctest"
      }
     ]
    },
    "q3c": {
     "name": "q3c",
     "points": 4,
     "suites": [
      {
       "cases": [
        {
         "code": ">>> import wrap_test\n>>> def test4c1():\n...     f_prime = lambda x: 2 * x  # derivative of f(x) = x^2\n...     assert abs(minimize(f_prime, -10, 10) - 0) < 1e-8\n>>> wrap_test.wrap_test(test4c1)\n",
         "hidden": false,
         "locked": false
        },
        {
         "code": ">>> import wrap_test\n>>> def test4c2():\n...     f_prime = lambda x: -math.cos(x)  # derivative of f(x) = -sin(x)\n...     assert abs(minimize(f_prime, 0, 3.14) - math.pi/2) < 1e-8\n>>> wrap_test.wrap_test(test4c2)\n",
         "hidden": false,
         "locked": false
        }
       ],
       "scored": true,
       "setup": "",
       "teardown": "",
       "type": "doctest"
      }
     ]
    }
   }
  },
  "varInspector": {
   "cols": {
    "lenName": 16,
    "lenType": 16,
    "lenVar": 40
   },
   "kernels_config": {
    "python": {
     "delete_cmd_postfix": "",
     "delete_cmd_prefix": "del ",
     "library": "var_list.py",
     "varRefreshCmd": "print(var_dic_list())"
    },
    "r": {
     "delete_cmd_postfix": ") ",
     "delete_cmd_prefix": "rm(",
     "library": "var_list.r",
     "varRefreshCmd": "cat(var_dic_list()) "
    }
   },
   "types_to_exclude": [
    "module",
    "function",
    "builtin_function_or_method",
    "instance",
    "_Feature"
   ],
   "window_display": false
  }
 },
 "nbformat": 4,
 "nbformat_minor": 4
}
