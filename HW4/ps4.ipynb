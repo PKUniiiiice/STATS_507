{
 "cells": [
  {
   "cell_type": "code",
   "execution_count": 7,
   "id": "32a60488",
   "metadata": {
    "deletable": false,
    "editable": false
   },
   "outputs": [],
   "source": [
    "# Initialize Otter\n",
    "import otter\n",
    "grader = otter.Notebook(\"ps4.ipynb\")"
   ]
  },
  {
   "cell_type": "markdown",
   "id": "808d7e8c-473d-4dee-b0cb-1cea44c3577b",
   "metadata": {},
   "source": [
    "# PS4: Regular expressions\n",
    "In this problem set set you will get some basic practice using regular expressions. In Python the regular expressions module is called `re`:"
   ]
  },
  {
   "cell_type": "code",
   "execution_count": 8,
   "id": "969f0cab",
   "metadata": {},
   "outputs": [],
   "source": [
    "import re"
   ]
  },
  {
   "cell_type": "markdown",
   "id": "c9662a87",
   "metadata": {},
   "source": [
    "## Queston 1: Matching words\n",
    "We'll practice on the file `words.txt.gz` included with the problem set."
   ]
  },
  {
   "cell_type": "markdown",
   "id": "b3abbd34",
   "metadata": {
    "deletable": false,
    "editable": false
   },
   "source": [
    "**1(a)** (2 pts) Read the file, so that you have a list of strings, one for each word. Save this list as `words`.\n",
    "\n",
    "**Hint:** you can use `gzip.open` method to read a `.gz` file"
   ]
  },
  {
   "cell_type": "code",
   "execution_count": 9,
   "id": "1b0d9b5c",
   "metadata": {
    "tags": []
   },
   "outputs": [],
   "source": [
    "import gzip\n",
    "with gzip.open(\"words.txt.gz\", \"rt\") as f:\n",
    "    words = f.read()\n",
    "    words = words.split()\n"
   ]
  },
  {
   "cell_type": "code",
   "execution_count": 10,
   "id": "c5bc1bc3",
   "metadata": {
    "deletable": false,
    "editable": false
   },
   "outputs": [
    {
     "data": {
      "text/html": [
       "<p><strong><pre style='display: inline;'>q1a</pre></strong> passed! 🎉</p>"
      ],
      "text/plain": [
       "q1a results: All test cases passed!"
      ]
     },
     "execution_count": 10,
     "metadata": {},
     "output_type": "execute_result"
    }
   ],
   "source": [
    "grader.check(\"q1a\")"
   ]
  },
  {
   "cell_type": "markdown",
   "id": "8229d046",
   "metadata": {
    "deletable": false,
    "editable": false
   },
   "source": [
    "**1(b)** (2 pts) Write a regular expression that matches any three consecutive vowels, and use it to produce a list named `three_vowels` of all such words that occur in this data set."
   ]
  },
  {
   "cell_type": "code",
   "execution_count": 11,
   "id": "22288df1",
   "metadata": {
    "tags": []
   },
   "outputs": [],
   "source": [
    "pat = re.compile(r\"[aeiou]{3}\")\n",
    "three_vowels = [w for w in words if re.search(pat, w) is not None]"
   ]
  },
  {
   "cell_type": "code",
   "execution_count": 12,
   "id": "c58d7e0b",
   "metadata": {
    "deletable": false,
    "editable": false
   },
   "outputs": [
    {
     "data": {
      "text/html": [
       "<p><strong><pre style='display: inline;'>q1b</pre></strong> passed! 🌈</p>"
      ],
      "text/plain": [
       "q1b results: All test cases passed!"
      ]
     },
     "execution_count": 12,
     "metadata": {},
     "output_type": "execute_result"
    }
   ],
   "source": [
    "grader.check(\"q1b\")"
   ]
  },
  {
   "cell_type": "markdown",
   "id": "8caf5775",
   "metadata": {
    "deletable": false,
    "editable": false
   },
   "source": [
    "**1(c)** (2 pts) Write a regular expression that a single word containing an even number (greater than `0`) of the letter `e`, and use it to produce a list named `even_e` of all such words in the data set."
   ]
  },
  {
   "cell_type": "code",
   "execution_count": 13,
   "id": "491277a6",
   "metadata": {
    "tags": []
   },
   "outputs": [],
   "source": [
    "pat = re.compile(r\"(?:[^e]*e[^e]*e[^e]*)+\")\n",
    "even_e = [w for w in words if re.fullmatch(pat, w) is not None]"
   ]
  },
  {
   "cell_type": "code",
   "execution_count": 14,
   "id": "fb67a061",
   "metadata": {
    "deletable": false,
    "editable": false
   },
   "outputs": [
    {
     "data": {
      "text/html": [
       "<p><strong><pre style='display: inline;'>q1c</pre></strong> passed! 🎉</p>"
      ],
      "text/plain": [
       "q1c results: All test cases passed!"
      ]
     },
     "execution_count": 14,
     "metadata": {},
     "output_type": "execute_result"
    }
   ],
   "source": [
    "grader.check(\"q1c\")"
   ]
  },
  {
   "cell_type": "markdown",
   "id": "0c09b417",
   "metadata": {
    "deletable": false,
    "editable": false
   },
   "source": [
    "**1(d)** (2 pts) Write a regular expression that matches any string that begins and ends with a consonant, and has no consonants in between. Your answer should be a string named `consonants_begin_end`."
   ]
  },
  {
   "cell_type": "code",
   "execution_count": 15,
   "id": "9fbcd90e",
   "metadata": {
    "tags": []
   },
   "outputs": [],
   "source": [
    "consonants_begin_end = r\"^[b-df-hj-np-tv-zB-DF-HJ-NP-TV-Z][^b-df-hj-np-tv-zB-DF-HJ-NP-TV-Z]*[b-df-hj-np-tv-zB-DF-HJ-NP-TV-Z]$\""
   ]
  },
  {
   "cell_type": "code",
   "execution_count": 16,
   "id": "952a3d2e",
   "metadata": {},
   "outputs": [
    {
     "name": "stdout",
     "output_type": "stream",
     "text": [
      "Dud\n"
     ]
    },
    {
     "data": {
      "text/plain": [
       "<re.Match object; span=(0, 4), match='Du\\x7fd'>"
      ]
     },
     "execution_count": 16,
     "metadata": {},
     "output_type": "execute_result"
    }
   ],
   "source": [
    "eg = 'Du\\x7fd'\n",
    "print(eg)\n",
    "re.match(consonants_begin_end, eg)"
   ]
  },
  {
   "cell_type": "code",
   "execution_count": 17,
   "id": "c9edb1be",
   "metadata": {
    "deletable": false,
    "editable": false
   },
   "outputs": [
    {
     "data": {
      "text/html": [
       "<p><strong><pre style='display: inline;'>q1d</pre></strong> passed! ✨</p>"
      ],
      "text/plain": [
       "q1d results: All test cases passed!"
      ]
     },
     "execution_count": 17,
     "metadata": {},
     "output_type": "execute_result"
    }
   ],
   "source": [
    "grader.check(\"q1d\")"
   ]
  },
  {
   "cell_type": "markdown",
   "id": "2001d010",
   "metadata": {
    "deletable": false,
    "editable": false
   },
   "source": [
    "**1(e)** (2 pts) Write a regular expression that matches any word *at least four letters long* whose last two letters are the first two letters in reverse order, and use it to produce a list named `fwd_2_rev` of all such words in the dataset. (An example of such a word is `cardiac`.)"
   ]
  },
  {
   "cell_type": "code",
   "execution_count": 18,
   "id": "c8e35f19",
   "metadata": {
    "tags": []
   },
   "outputs": [],
   "source": [
    "pat = re.compile(r\"(\\w)(\\w)\\w*\\2\\1\")\n",
    "fwd_2_rev = [w for w in words if re.fullmatch(pat, w) is not None]"
   ]
  },
  {
   "cell_type": "code",
   "execution_count": 19,
   "id": "43fa212d",
   "metadata": {
    "deletable": false,
    "editable": false
   },
   "outputs": [
    {
     "data": {
      "text/html": [
       "<p><strong><pre style='display: inline;'>q1e</pre></strong> passed! 🌈</p>"
      ],
      "text/plain": [
       "q1e results: All test cases passed!"
      ]
     },
     "execution_count": 19,
     "metadata": {},
     "output_type": "execute_result"
    }
   ],
   "source": [
    "grader.check(\"q1e\")"
   ]
  },
  {
   "cell_type": "markdown",
   "id": "a4f76f3c",
   "metadata": {},
   "source": [
    "## Question 2: Filtering Internet traffic\n",
    "In this problem, you'll get a taste of a more realistic application of\n",
    "regular expressions. The file `SkypeIRC.txt.gz` contains a capture of Internet traffic generated\n",
    "by a laptop while it was running the program Skype. Each line represents a single \"packet\" of data that was either sent or received by the machine."
   ]
  },
  {
   "cell_type": "markdown",
   "id": "ce74e3c2",
   "metadata": {},
   "source": [
    "The first line of the file is:\n",
    "```\n",
    "    1   0.000000  192.168.1.2 → 212.204.214.114 IRC 96 Request (ISON)\n",
    "```\n",
    "The first two fields are a counter and timestamp indicating the total number of packets captured so far, and the time (in seconds) that has elapsed since the capture was initiated. Following that, `192.168.1.2 → 212.204.214.114` indicates that the packet was being sent from the [IP address](https://en.wikipedia.org/wiki/IP_address) `192.168.1.2` to `212.204.214.114`. The remainder of the line is a description of the packet contents, which varies from packet to packet."
   ]
  },
  {
   "cell_type": "markdown",
   "id": "1fba51cd",
   "metadata": {
    "deletable": false,
    "editable": false
   },
   "source": [
    "**2(a)** (2 pts) Construct a regular expression named `zero_to_255` that matches a single line containing numbers between 0 and 255, inclusive. Numbers with leading zeros should not match (except for 0 itself), so \"40\" should match, but \"040\" should not. We will surround your regular expression with the anchors \"^\" and \"$\" when testing; you do not need to include them."
   ]
  },
  {
   "cell_type": "code",
   "execution_count": 68,
   "id": "b76fbf63",
   "metadata": {
    "tags": []
   },
   "outputs": [],
   "source": [
    "zero_to_255 = r\"(0|[1-9]|[1-9]\\d|1\\d{2}|2[0-4]\\d|25[0-5])\""
   ]
  },
  {
   "cell_type": "code",
   "execution_count": 71,
   "id": "22df3d35",
   "metadata": {
    "deletable": false,
    "editable": false
   },
   "outputs": [
    {
     "data": {
      "text/html": [
       "<p><strong><pre style='display: inline;'>q2a</pre></strong> passed! 🌟</p>"
      ],
      "text/plain": [
       "q2a results: All test cases passed!"
      ]
     },
     "execution_count": 71,
     "metadata": {},
     "output_type": "execute_result"
    }
   ],
   "source": [
    "grader.check(\"q2a\")"
   ]
  },
  {
   "cell_type": "markdown",
   "id": "c88393f7",
   "metadata": {
    "deletable": false,
    "editable": false
   },
   "source": [
    "**2(b)** (2 pts) Using your solution in the previous step, build a regular expression named `ip` that matches IP addresses. For the purpose of this exercise, we will define an IP address to be a string of the form `A.B.C.D`, where $A$, $B$, $C$, and $D$ are numbers between 0 and 255."
   ]
  },
  {
   "cell_type": "code",
   "execution_count": 44,
   "id": "002720f6",
   "metadata": {
    "tags": []
   },
   "outputs": [],
   "source": [
    "ip = rf\"{zero_to_255}\\.{zero_to_255}\\.{zero_to_255}\\.{zero_to_255}\""
   ]
  },
  {
   "cell_type": "code",
   "execution_count": 23,
   "id": "4ddd7e2b",
   "metadata": {
    "deletable": false,
    "editable": false
   },
   "outputs": [
    {
     "data": {
      "text/html": [
       "<p><strong><pre style='display: inline;'>q2b</pre></strong> passed! 🎉</p>"
      ],
      "text/plain": [
       "q2b results: All test cases passed!"
      ]
     },
     "execution_count": 23,
     "metadata": {},
     "output_type": "execute_result"
    }
   ],
   "source": [
    "grader.check(\"q2b\")"
   ]
  },
  {
   "cell_type": "markdown",
   "id": "00deaef5",
   "metadata": {
    "deletable": false,
    "editable": false
   },
   "source": [
    "**2(c)** (2 pts) Create a regular expression that extracts the sender and receiever IP addresses from each line of the SkypeIRC log file, and use a `collections.Counter` to count up all the unique sender and receiver addresses in the data. What do you think is the IP address of your computer on which the capture was performed?"
   ]
  },
  {
   "cell_type": "markdown",
   "id": "52f93e59",
   "metadata": {},
   "source": [
    "_Type your answer here, replacing this text._"
   ]
  },
  {
   "cell_type": "code",
   "execution_count": 45,
   "id": "f48012ac",
   "metadata": {},
   "outputs": [
    {
     "data": {
      "text/plain": [
       "'(0|[1-9]|[1-9]\\\\d|1\\\\d{2}|2[0-4]\\\\d|25[0-5])\\\\.(0|[1-9]|[1-9]\\\\d|1\\\\d{2}|2[0-4]\\\\d|25[0-5])\\\\.(0|[1-9]|[1-9]\\\\d|1\\\\d{2}|2[0-4]\\\\d|25[0-5])\\\\.(0|[1-9]|[1-9]\\\\d|1\\\\d{2}|2[0-4]\\\\d|25[0-5])'"
      ]
     },
     "execution_count": 45,
     "metadata": {},
     "output_type": "execute_result"
    }
   ],
   "source": [
    "ip"
   ]
  },
  {
   "cell_type": "code",
   "execution_count": 28,
   "id": "453bcb98-398e-4009-918f-241dc213a5fb",
   "metadata": {
    "tags": []
   },
   "outputs": [],
   "source": [
    "from collections import Counter\n",
    "senders = Counter()\n",
    "receivers = Counter()\n",
    "\n",
    "with gzip.open(\"SkypeIRC.txt.gz\", \"rt\") as f:\n",
    "    for l in f:\n",
    "        ips = re.findall(ip, l)\n",
    "        if len(ips)<2:\n",
    "            continue\n",
    "        senders[ips[0]] = senders.get(ips[0], 0) + 1\n",
    "        receivers[ips[1]] = senders.get(ips[1], 0) + 1"
   ]
  },
  {
   "cell_type": "code",
   "execution_count": 31,
   "id": "3e5d82e3",
   "metadata": {},
   "outputs": [
    {
     "data": {
      "text/plain": [
       "[('192', '168', '1', '2'), ('212', '204', '214', '1')]"
      ]
     },
     "execution_count": 31,
     "metadata": {},
     "output_type": "execute_result"
    }
   ],
   "source": [
    "ips"
   ]
  },
  {
   "cell_type": "code",
   "execution_count": 30,
   "id": "7776ad44",
   "metadata": {},
   "outputs": [
    {
     "data": {
      "text/plain": [
       "('192', '168', '1', '2')"
      ]
     },
     "execution_count": 30,
     "metadata": {},
     "output_type": "execute_result"
    }
   ],
   "source": [
    "ips[0]"
   ]
  },
  {
   "cell_type": "code",
   "execution_count": 29,
   "id": "7f885cc4",
   "metadata": {},
   "outputs": [
    {
     "data": {
      "text/plain": [
       "Counter({('192', '168', '1', '2'): 1182,\n",
       "         ('212', '204', '214', '1'): 141,\n",
       "         ('192', '168', '1', '1'): 355,\n",
       "         ('71', '10', '179', '1'): 43,\n",
       "         ('172', '200', '160', '2'): 41,\n",
       "         ('86', '128', '100', '2'): 1,\n",
       "         ('68', '95', '198', '1'): 2,\n",
       "         ('86', '128', '187', '1'): 2,\n",
       "         ('24', '177', '122', '7'): 27,\n",
       "         ('68', '32', '70', '1'): 6,\n",
       "         ('65', '190', '6', '1'): 3,\n",
       "         ('165', '124', '253', '2'): 2,\n",
       "         ('81', '236', '228', '1'): 1,\n",
       "         ('86', '128', '163', '1'): 1,\n",
       "         ('86', '134', '79', '6'): 1,\n",
       "         ('80', '186', '57', '1'): 1,\n",
       "         ('68', '206', '150', '2'): 18,\n",
       "         ('212', '50', '132', '2'): 1,\n",
       "         ('217', '47', '73', '1'): 4,\n",
       "         ('195', '215', '8', '1'): 9,\n",
       "         ('83', '147', '171', '2'): 1,\n",
       "         ('172', '207', '190', '2'): 1,\n",
       "         ('217', '47', '73', '3'): 4,\n",
       "         ('82', '253', '163', '2'): 1,\n",
       "         ('217', '41', '176', '2'): 4,\n",
       "         ('83', '130', '238', '1'): 5,\n",
       "         ('217', '41', '176', '1'): 4,\n",
       "         ('190', '44', '165', '8'): 5,\n",
       "         ('212', '72', '49', '1'): 36,\n",
       "         ('24', '242', '109', '9'): 5,\n",
       "         ('67', '190', '60', '1'): 5,\n",
       "         ('129', '11', '125', '1'): 1,\n",
       "         ('69', '192', '67', '1'): 1,\n",
       "         ('66', '67', '61', '4'): 6,\n",
       "         ('24', '61', '5', '1'): 1,\n",
       "         ('24', '107', '221', '8'): 5,\n",
       "         ('72', '145', '3', '1'): 2,\n",
       "         ('193', '150', '239', '1'): 2,\n",
       "         ('24', '225', '155', '4'): 1,\n",
       "         ('68', '84', '140', '1'): 4,\n",
       "         ('72', '181', '61', '1'): 4,\n",
       "         ('82', '216', '129', '1'): 5,\n",
       "         ('212', '30', '7', '1'): 1,\n",
       "         ('67', '162', '133', '2'): 4,\n",
       "         ('24', '243', '179', '1'): 1,\n",
       "         ('130', '117', '72', '7'): 1,\n",
       "         ('88', '134', '27', '1'): 1,\n",
       "         ('67', '190', '177', '7'): 2,\n",
       "         ('24', '50', '144', '1'): 2,\n",
       "         ('24', '93', '232', '9'): 1,\n",
       "         ('84', '228', '208', '9'): 9,\n",
       "         ('69', '205', '247', '1'): 6,\n",
       "         ('68', '74', '190', '2'): 5,\n",
       "         ('213', '165', '187', '1'): 3,\n",
       "         ('81', '184', '127', '1'): 4,\n",
       "         ('84', '121', '82', '3'): 1,\n",
       "         ('196', '40', '10', '1'): 1,\n",
       "         ('74', '130', '44', '2'): 1,\n",
       "         ('218', '111', '60', '1'): 1,\n",
       "         ('190', '37', '32', '1'): 1,\n",
       "         ('86', '128', '194', '1'): 2,\n",
       "         ('190', '38', '33', '1'): 4,\n",
       "         ('200', '55', '99', '2'): 1,\n",
       "         ('69', '248', '108', '1'): 2,\n",
       "         ('70', '161', '237', '8'): 3,\n",
       "         ('70', '160', '92', '1'): 3,\n",
       "         ('24', '191', '115', '1'): 3,\n",
       "         ('70', '160', '94', '1'): 4,\n",
       "         ('69', '114', '183', '8'): 2,\n",
       "         ('70', '181', '220', '8'): 3,\n",
       "         ('70', '36', '75', '9'): 3,\n",
       "         ('24', '22', '73', '2'): 2,\n",
       "         ('82', '40', '35', '1'): 7,\n",
       "         ('24', '247', '87', '5'): 2,\n",
       "         ('68', '55', '27', '1'): 3,\n",
       "         ('69', '160', '6', '1'): 9,\n",
       "         ('71', '196', '236', '1'): 3,\n",
       "         ('72', '40', '37', '2'): 1,\n",
       "         ('72', '197', '60', '2'): 6,\n",
       "         ('69', '141', '46', '5'): 6,\n",
       "         ('24', '125', '186', '1'): 3,\n",
       "         ('68', '56', '113', '1'): 3,\n",
       "         ('172', '164', '231', '1'): 1,\n",
       "         ('67', '165', '90', '2'): 3,\n",
       "         ('69', '250', '183', '5'): 3,\n",
       "         ('86', '128', '79', '3'): 1,\n",
       "         ('24', '28', '248', '6'): 18,\n",
       "         ('67', '163', '96', '1'): 18,\n",
       "         ('80', '73', '178', '2'): 18,\n",
       "         ('69', '244', '172', '2'): 3,\n",
       "         ('84', '25', '172', '1'): 1,\n",
       "         ('68', '38', '164', '1'): 2,\n",
       "         ('86', '128', '191', '1'): 3,\n",
       "         ('82', '238', '159', '7'): 1,\n",
       "         ('172', '210', '225', '3'): 1,\n",
       "         ('87', '254', '76', '2'): 1,\n",
       "         ('83', '227', '99', '2'): 2,\n",
       "         ('201', '66', '132', '2'): 1,\n",
       "         ('154', '20', '232', '8'): 1,\n",
       "         ('87', '110', '172', '1'): 1,\n",
       "         ('209', '6', '110', '1'): 1,\n",
       "         ('68', '53', '93', '5'): 1,\n",
       "         ('35', '10', '92', '6'): 2,\n",
       "         ('68', '184', '180', '1'): 1,\n",
       "         ('69', '116', '18', '1'): 1,\n",
       "         ('213', '112', '53', '7'): 1,\n",
       "         ('217', '8', '201', '2'): 3,\n",
       "         ('85', '165', '0', '5'): 1,\n",
       "         ('192', '208', '132', '2'): 1,\n",
       "         ('88', '108', '131', '4'): 1,\n",
       "         ('67', '71', '69', '1'): 14,\n",
       "         ('202', '97', '238', '2'): 2,\n",
       "         ('86', '128', '67', '6'): 2,\n",
       "         ('67', '175', '21', '1'): 1,\n",
       "         ('67', '163', '59', '1'): 6,\n",
       "         ('71', '228', '44', '1'): 3,\n",
       "         ('86', '3', '249', '4'): 1,\n",
       "         ('86', '128', '116', '2'): 2,\n",
       "         ('24', '185', '17', '2'): 1,\n",
       "         ('74', '134', '3', '1'): 1,\n",
       "         ('67', '84', '43', '1'): 1,\n",
       "         ('24', '187', '107', '9'): 3,\n",
       "         ('24', '53', '74', '1'): 2,\n",
       "         ('66', '61', '38', '1'): 3,\n",
       "         ('68', '195', '103', '1'): 3,\n",
       "         ('208', '2', '71', '2'): 2,\n",
       "         ('68', '0', '172', '3'): 3,\n",
       "         ('72', '201', '60', '1'): 3,\n",
       "         ('24', '224', '190', '1'): 1,\n",
       "         ('67', '84', '148', '1'): 3,\n",
       "         ('67', '80', '71', '2'): 3,\n",
       "         ('86', '20', '229', '2'): 1,\n",
       "         ('84', '194', '56', '1'): 1,\n",
       "         ('194', '46', '185', '1'): 5,\n",
       "         ('88', '109', '227', '8'): 1,\n",
       "         ('89', '0', '195', '1'): 5,\n",
       "         ('67', '188', '114', '7'): 1,\n",
       "         ('62', '30', '220', '3'): 1,\n",
       "         ('70', '173', '223', '8'): 1,\n",
       "         ('137', '99', '56', '1'): 1,\n",
       "         ('189', '132', '176', '2'): 9,\n",
       "         ('69', '113', '180', '2'): 3,\n",
       "         ('24', '188', '222', '1'): 3,\n",
       "         ('68', '234', '20', '5'): 1,\n",
       "         ('69', '164', '189', '1'): 2,\n",
       "         ('68', '47', '20', '1'): 1})"
      ]
     },
     "execution_count": 29,
     "metadata": {},
     "output_type": "execute_result"
    }
   ],
   "source": [
    "senders"
   ]
  },
  {
   "cell_type": "code",
   "execution_count": null,
   "id": "43b063f4",
   "metadata": {
    "deletable": false,
    "editable": false
   },
   "outputs": [],
   "source": [
    "grader.check(\"q2c\")"
   ]
  },
  {
   "cell_type": "markdown",
   "id": "561152b6",
   "metadata": {
    "deletable": false,
    "editable": false
   },
   "source": [
    "## Submission\n",
    "\n",
    "Make sure you have run all cells in your notebook in order before running the cell below, so that all images/graphs appear in the output. The cell below will generate a zip file for you to submit. **Please save before exporting!**\n",
    "\n",
    "Upload this .zip file to Gradescope for grading."
   ]
  },
  {
   "cell_type": "code",
   "execution_count": null,
   "id": "afa0757c",
   "metadata": {
    "deletable": false,
    "editable": false
   },
   "outputs": [],
   "source": [
    "# Save your notebook first, then run this cell to export your submission.\n",
    "grader.export(pdf=False)"
   ]
  },
  {
   "cell_type": "markdown",
   "id": "ef339e5b",
   "metadata": {},
   "source": [
    " "
   ]
  }
 ],
 "metadata": {
  "kernelspec": {
   "display_name": "Python 3 (ipykernel)",
   "language": "python",
   "name": "python3"
  },
  "language_info": {
   "codemirror_mode": {
    "name": "ipython",
    "version": 3
   },
   "file_extension": ".py",
   "mimetype": "text/x-python",
   "name": "python",
   "nbconvert_exporter": "python",
   "pygments_lexer": "ipython3",
   "version": "3.11.3"
  },
  "otter": {
   "OK_FORMAT": true,
   "tests": {
    "q1a": {
     "name": "q1a",
     "points": 2,
     "suites": [
      {
       "cases": [
        {
         "code": ">>> assert len(words) == 113809\n",
         "hidden": false,
         "locked": false
        }
       ],
       "scored": true,
       "setup": "",
       "teardown": "",
       "type": "doctest"
      }
     ]
    },
    "q1b": {
     "name": "q1b",
     "points": 2,
     "suites": [
      {
       "cases": [
        {
         "code": ">>> assert len(three_vowels) == 1375\n",
         "hidden": false,
         "locked": false
        },
        {
         "code": ">>> assert \"oeillade\" in three_vowels\n",
         "hidden": false,
         "locked": false
        },
        {
         "code": ">>> three_vowels_soln = set([w for w in words if re.search(r\"[aeuio]{3}\", w)])\n>>> assert set(three_vowels) == set(three_vowels_soln)\n",
         "hidden": false,
         "locked": false
        }
       ],
       "scored": true,
       "setup": "",
       "teardown": "",
       "type": "doctest"
      }
     ]
    },
    "q1c": {
     "name": "q1c",
     "points": 2,
     "suites": [
      {
       "cases": [
        {
         "code": ">>> assert \"eye\" in even_e\n>>> assert \"eels\" in even_e\n>>> assert \"storekeeper\" in even_e\n>>> assert \"bird\" not in even_e\n>>> assert \"fed\" not in even_e\n>>> assert \"eleven\" not in even_e\n",
         "hidden": false,
         "locked": false
        }
       ],
       "scored": true,
       "setup": "",
       "teardown": "",
       "type": "doctest"
      }
     ]
    },
    "q1d": {
     "name": "q1d",
     "points": 2,
     "suites": [
      {
       "cases": [
        {
         "code": ">>> assert isinstance(consonants_begin_end, str)\n",
         "hidden": false,
         "locked": false
        },
        {
         "code": ">>> regexp = re.compile(consonants_begin_end)\n>>> assert regexp.match(\"dad\")\n>>> assert regexp.match(\"doom\")\n>>> assert regexp.match(\"mom\")\n>>> assert regexp.match(\"me ad\")\n>>> assert regexp.match(\"woooo!!!!! ah\")\n>>> assert not regexp.match(\"\")\n>>> assert not regexp.match(\"dad & mom\")\n>>> assert not regexp.match(\"dune\")\n",
         "hidden": false,
         "locked": false
        }
       ],
       "scored": true,
       "setup": "",
       "teardown": "",
       "type": "doctest"
      }
     ]
    },
    "q1e": {
     "name": "q1e",
     "points": 2,
     "suites": [
      {
       "cases": [
        {
         "code": ">>> assert \"cardiac\" in fwd_2_rev\n>>> assert \"defeated\" in fwd_2_rev\n>>> assert \"sees\" in fwd_2_rev\n",
         "hidden": false,
         "locked": false
        }
       ],
       "scored": true,
       "setup": "",
       "teardown": "",
       "type": "doctest"
      }
     ]
    },
    "q2a": {
     "name": "q2a",
     "points": 2,
     "suites": [
      {
       "cases": [
        {
         "code": ">>> assert isinstance(zero_to_255, str)\n>>> regexp = re.compile(r\"^\" + zero_to_255 + \"$\")\n>>> assert not regexp.match(\"001\")\n>>> assert not regexp.match(\"123 234\")\n>>> for i in range(256):\n...     assert regexp.match(str(i)), f\"{str(i)} did not match\"\n...     assert regexp.match(str(i)).groups() == (str(i), ), f\"{str(i)} should match exactly once\"\n",
         "hidden": false,
         "locked": false
        }
       ],
       "scored": true,
       "setup": "",
       "teardown": "",
       "type": "doctest"
      }
     ]
    },
    "q2b": {
     "name": "q2b",
     "points": 2,
     "suites": [
      {
       "cases": [
        {
         "code": ">>> assert isinstance(ip, str)\n>>> regexp = re.compile(r\"^\" + ip + r\"$\")\n>>> assert regexp.match(\"127.0.0.1\")\n>>> assert regexp.match(\"172.217.2.36\")\n>>> assert regexp.match(\"141.211.243.251\")\n>>> assert not regexp.match(\"1.2.3.400\")\n>>> assert not regexp.match(\"1.2.3.4.5\")\n",
         "hidden": false,
         "locked": false
        }
       ],
       "scored": true,
       "setup": "",
       "teardown": "",
       "type": "doctest"
      }
     ]
    },
    "q2c": {
     "name": "q2c",
     "points": 2,
     "suites": [
      {
       "cases": [
        {
         "code": ">>> assert senders['212.204.214.114'] == 141\n",
         "hidden": false,
         "locked": false
        },
        {
         "code": ">>> assert receivers['212.204.214.114'] == 159\n",
         "hidden": false,
         "locked": false
        }
       ],
       "scored": true,
       "setup": "",
       "teardown": "",
       "type": "doctest"
      }
     ]
    }
   }
  }
 },
 "nbformat": 4,
 "nbformat_minor": 5
}
