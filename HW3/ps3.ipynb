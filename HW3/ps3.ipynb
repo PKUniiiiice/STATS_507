{
 "cells": [
  {
   "cell_type": "code",
   "execution_count": 13,
   "metadata": {
    "deletable": false,
    "editable": false
   },
   "outputs": [],
   "source": [
    "# Initialize Otter\n",
    "import otter\n",
    "grader = otter.Notebook(\"ps3.ipynb\")"
   ]
  },
  {
   "cell_type": "markdown",
   "metadata": {},
   "source": [
    "# STATS 507\n",
    "\n",
    "## Problem 1: Counting Word Bigrams (6 points)\n",
    "Let us write a function for counting word bigrams. That is, for each pair of words, say, cat and dog, we want to count how many times the word “cat” occurred immediately before the word “dog”. We will represent this bigram by a tuple, `(’cat’, ’dog’)`.\n",
    "\n",
    "So, as an example, the fragment of poem,\n",
    "\n",
    "```\n",
    "Half a league, half a league, Half a league onward,\n",
    "All in the valley of Death Rode the six hundred.\n",
    "```\n",
    "\n",
    "includes the bigrams `(’half’, ’a’)` and `(’a’, ’league’)` both three times, the bigram `(’league’, ’half’)` appears twice, while the bigram `(’in’, ’the’)` appears only once.\n",
    "\n",
    "**Note:** For our purposes, we will ignore all spaces, newlines, punctuation and capitalization in our counting."
   ]
  },
  {
   "cell_type": "markdown",
   "metadata": {
    "deletable": false,
    "editable": false,
    "tags": []
   },
   "source": [
    "### Part A (2 points)\n",
    "Write a function `count_bigrams_in_file` that takes a ﬁlename `file` as its only argument. Your function should read from the given ﬁle, and return a dictionary whose keys are bigrams (given in the tuple form above), and values are the counts for those bigrams.\n",
    "\n",
    "Again, your function should ignore punctuation, spaces, newlines and capitalization.\n",
    "\n",
    "#### Hints\n",
    "\n",
    "- You will ﬁnd the Python function `str.strip()`, along with the string constants deﬁned in the string documentation (https://docs.python.org/3/library/string.html), useful in removing punctuation. \n",
    "- Be careful to check that your function handles newlines correctly. For example, in the poem above, one of the `(’league’, ’half’)` bigrams spans a newline, but should be counted nonetheless.\n",
    "- For this function to be executed at a reasonable speed, you should attempt to remove all punctuation from the file in the text __before__ splitting it into words. For reference, our solution only uses one for loop over all the words in the given file's text.\n",
    "- Be careful that your function does not accidentally count the empty string as a word (this is a common bug if you aren’t careful about splitting the input text). Solutions that merely delete “bad” keys from the dictionary at the end will not receive full credit, as all edge cases can handled by correctly splitting the input.\n",
    "- Please replace instances of '--' with a space ' '. So that e.g. 'Bob--David' would be parsed as 'Bob David' (two separate words). Any other punctuation should be removed and treated the same, so for example 'Bob/David' would be parsed as 'BobDavid'. This includes punctuation inside words so e.g. \"they're\" would become \"theyre\""
   ]
  },
  {
   "cell_type": "code",
   "execution_count": 14,
   "metadata": {
    "tags": []
   },
   "outputs": [],
   "source": [
    "import string\n",
    "\n",
    "\n",
    "def count_bigrams_in_file(file):\n",
    "    with open(file, 'r') as f:\n",
    "        f_ct = f.read()\n",
    "\n",
    "    #replace -- with ' '\n",
    "    f_ct = f_ct.replace('--', ' ')\n",
    "\n",
    "    #delete punctuation\n",
    "    f_ct = f_ct.translate(str.maketrans('','', string.punctuation))\n",
    "\n",
    "    #all whitespace character to ' '\n",
    "    f_ct = f_ct.translate(str.maketrans(string.whitespace, ' ' * len(string.whitespace)))\n",
    "\n",
    "    #lower\n",
    "    f_ct = f_ct.lower()\n",
    "\n",
    "    words = f_ct.split()\n",
    "\n",
    "    bigram = {}\n",
    "    for i in range(len(words)-1):\n",
    "        bigram[(words[i], words[i+1])] = bigram.get((words[i], words[i+1]), 0) + 1\n",
    "\n",
    "    return bigram"
   ]
  },
  {
   "cell_type": "code",
   "execution_count": 15,
   "metadata": {
    "deletable": false,
    "editable": false
   },
   "outputs": [
    {
     "data": {
      "text/html": [
       "<p><strong><pre style='display: inline;'>q1a</pre></strong> passed! 🍀</p>"
      ],
      "text/plain": [
       "q1a results: All test cases passed!"
      ]
     },
     "execution_count": 15,
     "metadata": {},
     "output_type": "execute_result"
    }
   ],
   "source": [
    "grader.check(\"q1a\")"
   ]
  },
  {
   "cell_type": "markdown",
   "metadata": {},
   "source": [
    "### Part B (1 point)  \n",
    "The ﬁle `WandP.txt`, which was included along with this jupyter notebook in `ps3.zip`, is an `ASCII` copy of all of Tolstoi’s novel War and Peace. Run your function on this ﬁle, and pickle the resulting dictionary in a ﬁle called `mb.bigrams.pickle`."
   ]
  },
  {
   "cell_type": "code",
   "execution_count": 16,
   "metadata": {
    "tags": []
   },
   "outputs": [],
   "source": [
    "import pickle\n",
    "\n",
    "out = count_bigrams_in_file('WandP.txt')\n",
    "with open('mb.bigrams.pickle', 'wb') as f:\n",
    "    pickle.dump(out, f)"
   ]
  },
  {
   "cell_type": "code",
   "execution_count": 17,
   "metadata": {
    "deletable": false,
    "editable": false
   },
   "outputs": [
    {
     "data": {
      "text/html": [
       "<p><strong><pre style='display: inline;'>q1b</pre></strong> passed! 🌟</p>"
      ],
      "text/plain": [
       "q1b results: All test cases passed!"
      ]
     },
     "execution_count": 17,
     "metadata": {},
     "output_type": "execute_result"
    }
   ],
   "source": [
    "grader.check(\"q1b\")"
   ]
  },
  {
   "cell_type": "markdown",
   "metadata": {
    "deletable": false,
    "editable": false
   },
   "source": [
    "### Part C (2 points)\n",
    "\n",
    "We say that word `A` is _collocated_ with word `B` in a text if words `A` and `B` occur immediately one after another (in either order). That is, words `A` and `B` are collocated if and only if either of the tuples `(A, B)` or `(B, A)` are present in the text.\n",
    "\n",
    "Write a function `collocations` that takes a ﬁlename `file` as its only argument and returns a dictionary. Your function should read from the given ﬁle and return a dictionary whose keys are all the strings appearing in the ﬁle and the value of word `A` is a Python set containing all the words collocated with `A`.\n",
    "\n",
    "Follow the same conventions as above problems; in ignoring case and stripping away all spaces, newlines and punctuation.\n",
    "\n",
    "Again using the poem fragment above as an example, the string `’league’` should appear as a key, and should have as its value the set `{’a’, ’half’, ’onward’}`, while the string `’in’` should have the set `{’all’, ’the’}` as its value.\n",
    "\n",
    "#### Hints\n",
    "\n",
    "- For this function to be executed at a reasonable speed, you should attempt to remove all punctuation from the file in the text __before__ splitting it into words. For reference, our solution only uses one for loop over all the words in the given file's text."
   ]
  },
  {
   "cell_type": "code",
   "execution_count": 18,
   "metadata": {
    "tags": []
   },
   "outputs": [],
   "source": [
    "def collocations(file):\n",
    "    with open(file, 'r') as f:\n",
    "        f_ct = f.read()\n",
    "\n",
    "    #replace -- with ' '\n",
    "    f_ct = f_ct.replace('--', ' ')\n",
    "\n",
    "    #delete punctuation\n",
    "    f_ct = f_ct.translate(str.maketrans('','', string.punctuation))\n",
    "\n",
    "    #all whitespace character to ' '\n",
    "    f_ct = f_ct.translate(str.maketrans(string.whitespace, ' ' * len(string.whitespace)))\n",
    "\n",
    "    #lower\n",
    "    f_ct = f_ct.lower()\n",
    "\n",
    "    words = f_ct.split()\n",
    "\n",
    "    colloc = {}\n",
    "    for i in range(len(words)-1):\n",
    "        t1 = colloc.get(words[i], set())\n",
    "        t1.add(words[i+1])\n",
    "        colloc[words[i]] = t1\n",
    "\n",
    "        t2 = colloc.get(words[-i-1], set())\n",
    "        t2.add(words[-i-2])\n",
    "        colloc[words[-i-1]] = t2\n",
    "\n",
    "    return colloc"
   ]
  },
  {
   "cell_type": "code",
   "execution_count": 19,
   "metadata": {
    "deletable": false,
    "editable": false
   },
   "outputs": [
    {
     "data": {
      "text/html": [
       "<p><strong><pre style='display: inline;'>q1c</pre></strong> passed! ✨</p>"
      ],
      "text/plain": [
       "q1c results: All test cases passed!"
      ]
     },
     "execution_count": 19,
     "metadata": {},
     "output_type": "execute_result"
    }
   ],
   "source": [
    "grader.check(\"q1c\")"
   ]
  },
  {
   "cell_type": "markdown",
   "metadata": {
    "deletable": false,
    "editable": false
   },
   "source": [
    "### Part D (1 point)\n",
    "Run your function on the ﬁle `WandP.txt` and pickle the resulting dictionary in a ﬁle called `mb.colloc.pickle.`"
   ]
  },
  {
   "cell_type": "code",
   "execution_count": 20,
   "metadata": {
    "tags": []
   },
   "outputs": [],
   "source": [
    "import pickle\n",
    "\n",
    "out = collocations('WandP.txt')\n",
    "with open('mb.colloc.pickle', 'wb') as f:\n",
    "    pickle.dump(out, f)"
   ]
  },
  {
   "cell_type": "code",
   "execution_count": 21,
   "metadata": {
    "deletable": false,
    "editable": false
   },
   "outputs": [
    {
     "data": {
      "text/html": [
       "<p><strong><pre style='display: inline;'>q1d</pre></strong> passed! 🍀</p>"
      ],
      "text/plain": [
       "q1d results: All test cases passed!"
      ]
     },
     "execution_count": 21,
     "metadata": {},
     "output_type": "execute_result"
    }
   ],
   "source": [
    "grader.check(\"q1d\")"
   ]
  },
  {
   "cell_type": "markdown",
   "metadata": {
    "tags": []
   },
   "source": [
    "##  Problem 2: List Comprehensions and Generator Expressions (5 points)\n",
    "In this problem you’ll write a few simple list comprehensions and generator expressions."
   ]
  },
  {
   "cell_type": "markdown",
   "metadata": {
    "deletable": false,
    "editable": false
   },
   "source": [
    "### Part A (1 point)\n",
    "Write a list comprehension where each element equals $3^{n}−1$ for $n = 1, 2, 3,..., 20$.\n",
    "\n",
    "For ease of grading, please assign this list comprehension to a variable called `pow3minus1`."
   ]
  },
  {
   "cell_type": "code",
   "execution_count": 22,
   "metadata": {
    "tags": []
   },
   "outputs": [],
   "source": [
    "\"\"\"Write the list comprehension here. Make sure to assign it\n",
    "to a variable `pow3minus1`\"\"\"\n",
    "pow3minus1 = [3**n-1 for n in range(1,21)]"
   ]
  },
  {
   "cell_type": "code",
   "execution_count": 23,
   "metadata": {
    "deletable": false,
    "editable": false
   },
   "outputs": [
    {
     "data": {
      "text/html": [
       "<p><strong><pre style='display: inline;'>q2a</pre></strong> passed! 💯</p>"
      ],
      "text/plain": [
       "q2a results: All test cases passed!"
      ]
     },
     "execution_count": 23,
     "metadata": {},
     "output_type": "execute_result"
    }
   ],
   "source": [
    "grader.check(\"q2a\")"
   ]
  },
  {
   "cell_type": "markdown",
   "metadata": {
    "deletable": false,
    "editable": false
   },
   "source": [
    "### Part B (2 point)\n",
    "Write a generator expression for the **pyramid numbers**. The $n$-th pyramid number $P_{n}$ (for $n = 1, 2, ...$) counts the number of spheres in a pyramid with an $n$-by-$n$ based (see https://en.wikipedia.org/wiki/Square_pyramidal_number), and is given by:\n",
    "$$\n",
    "P_{n} = \\sum_{k=1}^{n}k^2 = \\frac{n (n+1) (2n+1)}{6}\n",
    "$$\n",
    "For ease of grading, please assign this generator expression to a variable called `pyramid`.\n",
    "\n",
    "**Hint:** You may ﬁnd it useful to first deﬁne a generator for the positive integers."
   ]
  },
  {
   "cell_type": "code",
   "execution_count": 24,
   "metadata": {
    "tags": []
   },
   "outputs": [],
   "source": [
    "\"\"\"Your code for the pyramid generator goes here.\"\"\"\n",
    "\n",
    "def positive():\n",
    "    a = 1\n",
    "    while True:\n",
    "        yield a\n",
    "        a += 1\n",
    "\n",
    "def Pn():\n",
    "    for n in positive():\n",
    "        yield int(n*(n+1)*(2*n+1)/6)\n",
    "\n",
    "pyramid =  (pn for pn in Pn())"
   ]
  },
  {
   "cell_type": "code",
   "execution_count": 25,
   "metadata": {
    "deletable": false,
    "editable": false
   },
   "outputs": [
    {
     "data": {
      "text/html": [
       "<p><strong><pre style='display: inline;'>q2b</pre></strong> passed! 🌟</p>"
      ],
      "text/plain": [
       "q2b results: All test cases passed!"
      ]
     },
     "execution_count": 25,
     "metadata": {},
     "output_type": "execute_result"
    }
   ],
   "source": [
    "grader.check(\"q2b\")"
   ]
  },
  {
   "cell_type": "markdown",
   "metadata": {
    "deletable": false,
    "editable": false
   },
   "source": [
    "### Part C (2 point)\n",
    "Write a generator expression that enumerates the _octahedral numbers_. The $n$-th octahedral number ($n = 1, 2, ...$) is given by\n",
    "\n",
    "$$O_{n} = \\frac{n(2n^{2}+1)}{3},$$\n",
    "\n",
    "and counts the number of spheres in an octahedron with $n$ spheres to each edge (see https://en.wikipedia.org/wiki/Octahedral_number).\n",
    "\n",
    "For ease of grading, please assign this generator expression to a variable called `octa`.\n",
    "\n",
    "**Note:** You can solve this problem any way you see fit. However, a particularly clever solution uses the fact that the $n$-th octahedral number can be expressed as $O_{n} = P_{n} + P_{n-1}$ where $P_{n}$ denotes the $n$-th pyramidal number (which you implemented in the previous subproblem)."
   ]
  },
  {
   "cell_type": "code",
   "execution_count": 26,
   "metadata": {
    "tags": []
   },
   "outputs": [],
   "source": [
    "\"\"\"Code for `octa` generator here.\"\"\"\n",
    "\n",
    "#we define P_0=0\n",
    "def Pn_1():\n",
    "    yield 0\n",
    "    yield from Pn()\n",
    "\n",
    "octa = (i+j for i,j in zip(Pn_1(), Pn()))"
   ]
  },
  {
   "cell_type": "code",
   "execution_count": 27,
   "metadata": {
    "deletable": false,
    "editable": false
   },
   "outputs": [
    {
     "data": {
      "text/html": [
       "<p><strong><pre style='display: inline;'>q2c</pre></strong> passed! 💯</p>"
      ],
      "text/plain": [
       "q2c results: All test cases passed!"
      ]
     },
     "execution_count": 27,
     "metadata": {},
     "output_type": "execute_result"
    }
   ],
   "source": [
    "grader.check(\"q2c\")"
   ]
  },
  {
   "cell_type": "markdown",
   "metadata": {
    "deletable": false,
    "editable": false
   },
   "source": [
    "## Submission\n",
    "\n",
    "Make sure you have run all cells in your notebook in order before running the cell below, so that all images/graphs appear in the output. The cell below will generate a zip file for you to submit. **Please save before exporting!**\n",
    "\n",
    "Upload this .zip file to Gradescope for grading."
   ]
  },
  {
   "cell_type": "code",
   "execution_count": 28,
   "metadata": {
    "deletable": false,
    "editable": false
   },
   "outputs": [
    {
     "data": {
      "text/html": [
       "\n",
       "                    <p>\n",
       "                        Your submission has been exported. Click\n",
       "                        <a href=\"ps3_2023_09_22T02_16_22_081977.zip\" downloadzip_path target=\"_blank\">here</a> to download\n",
       "                        the zip file.\n",
       "                    </p>\n",
       "                "
      ],
      "text/plain": [
       "<IPython.core.display.HTML object>"
      ]
     },
     "metadata": {},
     "output_type": "display_data"
    }
   ],
   "source": [
    "# Save your notebook first, then run this cell to export your submission.\n",
    "grader.export(pdf=False)"
   ]
  },
  {
   "cell_type": "markdown",
   "metadata": {},
   "source": [
    " "
   ]
  }
 ],
 "metadata": {
  "kernelspec": {
   "display_name": "Python 3 (ipykernel)",
   "language": "python",
   "name": "python3"
  },
  "language_info": {
   "codemirror_mode": {
    "name": "ipython",
    "version": 3
   },
   "file_extension": ".py",
   "mimetype": "text/x-python",
   "name": "python",
   "nbconvert_exporter": "python",
   "pygments_lexer": "ipython3",
   "version": "3.11.3"
  },
  "otter": {
   "OK_FORMAT": true,
   "tests": {
    "q1a": {
     "name": "q1a",
     "points": 2,
     "suites": [
      {
       "cases": [
        {
         "code": ">>> \n>>> assert count_bigrams_in_file('test.txt') == {('a', 'league'): 3, ('half', 'a'): 3,\n...        ('league', 'half'): 2, ('league', 'onward'): 1}\n",
         "hidden": false,
         "locked": false
        }
       ],
       "scored": true,
       "setup": "",
       "teardown": "",
       "type": "doctest"
      }
     ]
    },
    "q1b": {
     "name": "q1b",
     "points": 1,
     "suites": [
      {
       "cases": [
        {
         "code": ">>> \n>>> import os\n>>> import pickle\n>>> \n>>> assert os.path.isfile('mb.bigrams.pickle')\n>>> # HIDDEN\n>>> \n>>> with open('mb.bigrams.pickle', 'rb') as file:\n...     b = pickle.loads(file.read())\n>>> \n",
         "hidden": false,
         "locked": false
        }
       ],
       "scored": true,
       "setup": "",
       "teardown": "",
       "type": "doctest"
      }
     ]
    },
    "q1c": {
     "name": "q1c",
     "points": 2,
     "suites": [
      {
       "cases": [
        {
         "code": ">>> assert collocations('test2.txt') == {\n...                              'half': {'league', 'a'},\n...                              'a': {'half', 'league'},\n...                              'league': {'onward', 'half', 'a'},\n...                              'onward': {'league'}\n...                               }\n",
         "hidden": false,
         "locked": false
        }
       ],
       "scored": true,
       "setup": "",
       "teardown": "",
       "type": "doctest"
      }
     ]
    },
    "q1d": {
     "name": "q1d",
     "points": 1,
     "suites": [
      {
       "cases": [
        {
         "code": ">>> \n>>> import os\n>>> import pickle\n>>> assert os.path.exists('mb.colloc.pickle')\n>>> # HIDDEN\n>>> with open('mb.colloc.pickle', 'rb') as file:\n...     b = pickle.loads(file.read())\n>>> \n",
         "hidden": false,
         "locked": false
        }
       ],
       "scored": true,
       "setup": "",
       "teardown": "",
       "type": "doctest"
      }
     ]
    },
    "q2a": {
     "name": "q2a",
     "points": 1,
     "suites": [
      {
       "cases": [
        {
         "code": ">>> \n>>> assert pow3minus1[0:2] == [2, 8]\n>>> # HIDDEN\n>>> assert pow3minus1 == [\n...  2,\n...  8,\n...  26,\n...  80,\n...  242,\n...  728,\n...  2186,\n...  6560,\n...  19682,\n...  59048,\n...  177146,\n...  531440,\n...  1594322,\n...  4782968,\n...  14348906,\n...  43046720,\n...  129140162,\n...  387420488,\n...  1162261466,\n...  3486784400]\n>>> \n",
         "hidden": false,
         "locked": false
        }
       ],
       "scored": true,
       "setup": "",
       "teardown": "",
       "type": "doctest"
      }
     ]
    },
    "q2b": {
     "name": "q2b",
     "points": 2,
     "suites": [
      {
       "cases": [
        {
         "code": ">>> \n>>> pyramid_list = [next(pyramid) for _ in range(10)]\n>>> assert pyramid_list[:5] == [1, 5, 14, 30, 55]\n>>> # HIDDEN\n>>> assert pyramid_list == [1, 5, 14, 30, 55, 91, 140, 204, 285, 385]\n>>> \n",
         "hidden": false,
         "locked": false
        }
       ],
       "scored": true,
       "setup": "",
       "teardown": "",
       "type": "doctest"
      }
     ]
    },
    "q2c": {
     "name": "q2c",
     "points": 2,
     "suites": [
      {
       "cases": [
        {
         "code": ">>> \n>>> octa_list = [next(octa) for _ in range(10)]\n>>> assert octa_list[:3] == [1, 6, 19]\n>>> # HIDDEN\n>>> assert octa_list == [1, 6, 19, 44, 85, 146, 231, 344, 489, 670]\n>>> \n",
         "hidden": false,
         "locked": false
        }
       ],
       "scored": true,
       "setup": "",
       "teardown": "",
       "type": "doctest"
      }
     ]
    }
   }
  },
  "varInspector": {
   "cols": {
    "lenName": 16,
    "lenType": 16,
    "lenVar": 40
   },
   "kernels_config": {
    "python": {
     "delete_cmd_postfix": "",
     "delete_cmd_prefix": "del ",
     "library": "var_list.py",
     "varRefreshCmd": "print(var_dic_list())"
    },
    "r": {
     "delete_cmd_postfix": ") ",
     "delete_cmd_prefix": "rm(",
     "library": "var_list.r",
     "varRefreshCmd": "cat(var_dic_list()) "
    }
   },
   "types_to_exclude": [
    "module",
    "function",
    "builtin_function_or_method",
    "instance",
    "_Feature"
   ],
   "window_display": false
  }
 },
 "nbformat": 4,
 "nbformat_minor": 4
}
